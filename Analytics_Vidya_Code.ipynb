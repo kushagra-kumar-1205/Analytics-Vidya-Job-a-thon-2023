{
 "cells": [
  {
   "cell_type": "code",
   "execution_count": 1,
   "id": "d717a250",
   "metadata": {},
   "outputs": [],
   "source": [
    "import pandas as pd\n",
    "import numpy as np\n",
    "import matplotlib.pyplot as plt\n",
    "import seaborn as sns\n",
    "import warnings\n",
    "warnings.filterwarnings('ignore')\n",
    "from sklearn import preprocessing\n",
    "label_encoder = preprocessing.LabelEncoder()\n",
    "from sklearn.model_selection import train_test_split\n",
    "from sklearn.linear_model import LinearRegression\n",
    "from sklearn import metrics\n",
    "from sklearn.ensemble import RandomForestClassifier\n",
    "from sklearn.neighbors import KNeighborsClassifier\n",
    "from sklearn.tree import DecisionTreeClassifier"
   ]
  },
  {
   "cell_type": "code",
   "execution_count": 2,
   "id": "d65226ad",
   "metadata": {},
   "outputs": [],
   "source": [
    "data = pd.read_csv(\"train_BRCpofr.csv\")"
   ]
  },
  {
   "cell_type": "code",
   "execution_count": 3,
   "id": "9341de6c",
   "metadata": {
    "scrolled": true
   },
   "outputs": [
    {
     "data": {
      "text/html": [
       "<div>\n",
       "<style scoped>\n",
       "    .dataframe tbody tr th:only-of-type {\n",
       "        vertical-align: middle;\n",
       "    }\n",
       "\n",
       "    .dataframe tbody tr th {\n",
       "        vertical-align: top;\n",
       "    }\n",
       "\n",
       "    .dataframe thead th {\n",
       "        text-align: right;\n",
       "    }\n",
       "</style>\n",
       "<table border=\"1\" class=\"dataframe\">\n",
       "  <thead>\n",
       "    <tr style=\"text-align: right;\">\n",
       "      <th></th>\n",
       "      <th>id</th>\n",
       "      <th>gender</th>\n",
       "      <th>area</th>\n",
       "      <th>qualification</th>\n",
       "      <th>income</th>\n",
       "      <th>marital_status</th>\n",
       "      <th>vintage</th>\n",
       "      <th>claim_amount</th>\n",
       "      <th>num_policies</th>\n",
       "      <th>policy</th>\n",
       "      <th>type_of_policy</th>\n",
       "      <th>cltv</th>\n",
       "    </tr>\n",
       "  </thead>\n",
       "  <tbody>\n",
       "    <tr>\n",
       "      <th>0</th>\n",
       "      <td>1</td>\n",
       "      <td>Male</td>\n",
       "      <td>Urban</td>\n",
       "      <td>Bachelor</td>\n",
       "      <td>5L-10L</td>\n",
       "      <td>1</td>\n",
       "      <td>5</td>\n",
       "      <td>5790</td>\n",
       "      <td>More than 1</td>\n",
       "      <td>A</td>\n",
       "      <td>Platinum</td>\n",
       "      <td>64308</td>\n",
       "    </tr>\n",
       "    <tr>\n",
       "      <th>1</th>\n",
       "      <td>2</td>\n",
       "      <td>Male</td>\n",
       "      <td>Rural</td>\n",
       "      <td>High School</td>\n",
       "      <td>5L-10L</td>\n",
       "      <td>0</td>\n",
       "      <td>8</td>\n",
       "      <td>5080</td>\n",
       "      <td>More than 1</td>\n",
       "      <td>A</td>\n",
       "      <td>Platinum</td>\n",
       "      <td>515400</td>\n",
       "    </tr>\n",
       "    <tr>\n",
       "      <th>2</th>\n",
       "      <td>3</td>\n",
       "      <td>Male</td>\n",
       "      <td>Urban</td>\n",
       "      <td>Bachelor</td>\n",
       "      <td>5L-10L</td>\n",
       "      <td>1</td>\n",
       "      <td>8</td>\n",
       "      <td>2599</td>\n",
       "      <td>More than 1</td>\n",
       "      <td>A</td>\n",
       "      <td>Platinum</td>\n",
       "      <td>64212</td>\n",
       "    </tr>\n",
       "    <tr>\n",
       "      <th>3</th>\n",
       "      <td>4</td>\n",
       "      <td>Female</td>\n",
       "      <td>Rural</td>\n",
       "      <td>High School</td>\n",
       "      <td>5L-10L</td>\n",
       "      <td>0</td>\n",
       "      <td>7</td>\n",
       "      <td>0</td>\n",
       "      <td>More than 1</td>\n",
       "      <td>A</td>\n",
       "      <td>Platinum</td>\n",
       "      <td>97920</td>\n",
       "    </tr>\n",
       "    <tr>\n",
       "      <th>4</th>\n",
       "      <td>5</td>\n",
       "      <td>Male</td>\n",
       "      <td>Urban</td>\n",
       "      <td>High School</td>\n",
       "      <td>More than 10L</td>\n",
       "      <td>1</td>\n",
       "      <td>6</td>\n",
       "      <td>3508</td>\n",
       "      <td>More than 1</td>\n",
       "      <td>A</td>\n",
       "      <td>Gold</td>\n",
       "      <td>59736</td>\n",
       "    </tr>\n",
       "  </tbody>\n",
       "</table>\n",
       "</div>"
      ],
      "text/plain": [
       "   id  gender   area qualification         income  marital_status  vintage  \\\n",
       "0   1    Male  Urban      Bachelor         5L-10L               1        5   \n",
       "1   2    Male  Rural   High School         5L-10L               0        8   \n",
       "2   3    Male  Urban      Bachelor         5L-10L               1        8   \n",
       "3   4  Female  Rural   High School         5L-10L               0        7   \n",
       "4   5    Male  Urban   High School  More than 10L               1        6   \n",
       "\n",
       "   claim_amount num_policies policy type_of_policy    cltv  \n",
       "0          5790  More than 1      A       Platinum   64308  \n",
       "1          5080  More than 1      A       Platinum  515400  \n",
       "2          2599  More than 1      A       Platinum   64212  \n",
       "3             0  More than 1      A       Platinum   97920  \n",
       "4          3508  More than 1      A           Gold   59736  "
      ]
     },
     "execution_count": 3,
     "metadata": {},
     "output_type": "execute_result"
    }
   ],
   "source": [
    "data.head()"
   ]
  },
  {
   "cell_type": "code",
   "execution_count": 4,
   "id": "6ff19006",
   "metadata": {},
   "outputs": [
    {
     "data": {
      "text/plain": [
       "(89392, 12)"
      ]
     },
     "execution_count": 4,
     "metadata": {},
     "output_type": "execute_result"
    }
   ],
   "source": [
    "data.shape"
   ]
  },
  {
   "cell_type": "code",
   "execution_count": 5,
   "id": "c16bd2c1",
   "metadata": {},
   "outputs": [
    {
     "name": "stdout",
     "output_type": "stream",
     "text": [
      "<class 'pandas.core.frame.DataFrame'>\n",
      "RangeIndex: 89392 entries, 0 to 89391\n",
      "Data columns (total 12 columns):\n",
      " #   Column          Non-Null Count  Dtype \n",
      "---  ------          --------------  ----- \n",
      " 0   id              89392 non-null  int64 \n",
      " 1   gender          89392 non-null  object\n",
      " 2   area            89392 non-null  object\n",
      " 3   qualification   89392 non-null  object\n",
      " 4   income          89392 non-null  object\n",
      " 5   marital_status  89392 non-null  int64 \n",
      " 6   vintage         89392 non-null  int64 \n",
      " 7   claim_amount    89392 non-null  int64 \n",
      " 8   num_policies    89392 non-null  object\n",
      " 9   policy          89392 non-null  object\n",
      " 10  type_of_policy  89392 non-null  object\n",
      " 11  cltv            89392 non-null  int64 \n",
      "dtypes: int64(5), object(7)\n",
      "memory usage: 8.2+ MB\n"
     ]
    }
   ],
   "source": [
    "data.info()"
   ]
  },
  {
   "cell_type": "code",
   "execution_count": 6,
   "id": "e369f588",
   "metadata": {},
   "outputs": [],
   "source": [
    "data.drop(\"id\", axis = 1, inplace = True)"
   ]
  },
  {
   "cell_type": "code",
   "execution_count": 7,
   "id": "442164df",
   "metadata": {},
   "outputs": [
    {
     "name": "stdout",
     "output_type": "stream",
     "text": [
      "There are 7 categorical variables in Data \n",
      "\n",
      "Categorical Variables are : ['gender', 'area', 'qualification', 'income', 'num_policies', 'policy', 'type_of_policy']\n"
     ]
    }
   ],
   "source": [
    "data_cat = [var for var in data.columns if data[var].dtype == 'O']\n",
    "print('There are {} categorical variables in Data \\n'.format(len(data_cat)))\n",
    "print('Categorical Variables are :', data_cat)"
   ]
  },
  {
   "cell_type": "code",
   "execution_count": 8,
   "id": "7b5bba5b",
   "metadata": {},
   "outputs": [
    {
     "name": "stdout",
     "output_type": "stream",
     "text": [
      "There are 4 categorical variables in Data \n",
      "\n",
      "Categorical Variables are : ['marital_status', 'vintage', 'claim_amount', 'cltv']\n"
     ]
    }
   ],
   "source": [
    "data_num = [var for var in data.columns if data[var].dtype != 'O']\n",
    "print('There are {} categorical variables in Data \\n'.format(len(data_num)))\n",
    "print('Categorical Variables are :', data_num)"
   ]
  },
  {
   "cell_type": "code",
   "execution_count": 9,
   "id": "7129c129",
   "metadata": {},
   "outputs": [
    {
     "name": "stdout",
     "output_type": "stream",
     "text": [
      "The total number of Columns in Data are : 11\n"
     ]
    }
   ],
   "source": [
    "print(\"The total number of Columns in Data are :\", len(data.columns))"
   ]
  },
  {
   "cell_type": "markdown",
   "id": "b033f37f",
   "metadata": {},
   "source": [
    "### Categorical"
   ]
  },
  {
   "cell_type": "markdown",
   "id": "fdd7b7b6",
   "metadata": {},
   "source": [
    "Gender"
   ]
  },
  {
   "cell_type": "code",
   "execution_count": 10,
   "id": "a35ed4a2",
   "metadata": {
    "scrolled": false
   },
   "outputs": [
    {
     "name": "stdout",
     "output_type": "stream",
     "text": [
      "Null Value in Gender : 0\n",
      "Number of Unique Values in Gender : 2\n"
     ]
    }
   ],
   "source": [
    "print(\"Null Value in Gender :\", data['gender'].isnull().sum())\n",
    "print(\"Number of Unique Values in Gender :\", data['gender'].nunique())"
   ]
  },
  {
   "cell_type": "code",
   "execution_count": 11,
   "id": "c25e66d2",
   "metadata": {
    "scrolled": false
   },
   "outputs": [
    {
     "data": {
      "text/plain": [
       "array(['Male', 'Female'], dtype=object)"
      ]
     },
     "execution_count": 11,
     "metadata": {},
     "output_type": "execute_result"
    }
   ],
   "source": [
    "data['gender'].unique()"
   ]
  },
  {
   "cell_type": "code",
   "execution_count": 12,
   "id": "85676a15",
   "metadata": {},
   "outputs": [
    {
     "name": "stdout",
     "output_type": "stream",
     "text": [
      "Number of Male and Females in Gender are :\n",
      " Male      50497\n",
      "Female    38895\n",
      "Name: gender, dtype: int64\n"
     ]
    }
   ],
   "source": [
    "print(\"Number of Male and Females in Gender are :\\n\", data['gender'].value_counts())"
   ]
  },
  {
   "cell_type": "code",
   "execution_count": 13,
   "id": "c8eaf9f2",
   "metadata": {},
   "outputs": [
    {
     "name": "stdout",
     "output_type": "stream",
     "text": [
      "Percentage of Male applicant: 56.49%\n",
      "Percentage of Female applicant: 43.51%\n",
      "Missing values percentage: 0.00%\n"
     ]
    }
   ],
   "source": [
    "# Percentage of Males and Females in Gender\n",
    "\n",
    "countMale = len(data[data.gender == 'Male'])\n",
    "countFemale = len(data[data.gender == 'Female'])\n",
    "countNull = len(data[data.gender.isnull()])\n",
    "\n",
    "print(\"Percentage of Male applicant: {:.2f}%\".format((countMale / (len(data.gender)))*100))\n",
    "print(\"Percentage of Female applicant: {:.2f}%\".format((countFemale / (len(data.gender)))*100))\n",
    "print(\"Missing values percentage: {:.2f}%\".format((countNull / (len(data.gender)))*100))"
   ]
  },
  {
   "cell_type": "code",
   "execution_count": 14,
   "id": "eb02c943",
   "metadata": {
    "scrolled": true
   },
   "outputs": [
    {
     "data": {
      "image/png": "[encoded data removed]",
      "text/plain": [
       "<Figure size 432x288 with 1 Axes>"
      ]
     },
     "metadata": {
      "needs_background": "light"
     },
     "output_type": "display_data"
    }
   ],
   "source": [
    "sns.countplot(x = \"gender\", data = data, palette = \"hls\")\n",
    "plt.show()"
   ]
  },
  {
   "cell_type": "markdown",
   "id": "52c277c2",
   "metadata": {},
   "source": [
    "area"
   ]
  },
  {
   "cell_type": "code",
   "execution_count": 15,
   "id": "a5f1ce93",
   "metadata": {
    "scrolled": true
   },
   "outputs": [
    {
     "name": "stdout",
     "output_type": "stream",
     "text": [
      "Null Value in area : 0\n",
      "Number of Unique Values in area : 2\n"
     ]
    }
   ],
   "source": [
    "print(\"Null Value in area :\", data['area'].isnull().sum())\n",
    "print(\"Number of Unique Values in area :\", data['area'].nunique())"
   ]
  },
  {
   "cell_type": "code",
   "execution_count": 16,
   "id": "04407c15",
   "metadata": {
    "scrolled": false
   },
   "outputs": [
    {
     "data": {
      "text/plain": [
       "array(['Urban', 'Rural'], dtype=object)"
      ]
     },
     "execution_count": 16,
     "metadata": {},
     "output_type": "execute_result"
    }
   ],
   "source": [
    "data['area'].unique()"
   ]
  },
  {
   "cell_type": "code",
   "execution_count": 17,
   "id": "c670b6e3",
   "metadata": {},
   "outputs": [
    {
     "name": "stdout",
     "output_type": "stream",
     "text": [
      "Number of Urban and Rural in Area are :\n",
      " Urban    62455\n",
      "Rural    26937\n",
      "Name: area, dtype: int64\n"
     ]
    }
   ],
   "source": [
    "print(\"Number of Urban and Rural in Area are :\\n\", data['area'].value_counts())"
   ]
  },
  {
   "cell_type": "code",
   "execution_count": 18,
   "id": "dfd1ad85",
   "metadata": {},
   "outputs": [
    {
     "name": "stdout",
     "output_type": "stream",
     "text": [
      "Percentage of Urban: 69.87%\n",
      "Percentage of Rural: 30.13%\n",
      "Missing values percentage: 0.00%\n"
     ]
    }
   ],
   "source": [
    "countUrban = len(data[data.area == 'Urban'])\n",
    "countRural = len(data[data.area == 'Rural'])\n",
    "countNull = len(data[data.area.isnull()])\n",
    "\n",
    "print(\"Percentage of Urban: {:.2f}%\".format((countUrban / (len(data.area)))*100))\n",
    "print(\"Percentage of Rural: {:.2f}%\".format((countRural / (len(data.area)))*100))\n",
    "print(\"Missing values percentage: {:.2f}%\".format((countNull / (len(data.area)))*100))"
   ]
  },
  {
   "cell_type": "code",
   "execution_count": 19,
   "id": "2af2aaeb",
   "metadata": {},
   "outputs": [
    {
     "data": {
      "image/png": "[encoded data removed]",
      "text/plain": [
       "<Figure size 432x288 with 1 Axes>"
      ]
     },
     "metadata": {
      "needs_background": "light"
     },
     "output_type": "display_data"
    }
   ],
   "source": [
    "sns.countplot(x = \"area\", data = data, palette = \"hls\")\n",
    "plt.show()"
   ]
  },
  {
   "cell_type": "markdown",
   "id": "f9fdd714",
   "metadata": {},
   "source": [
    "qualification "
   ]
  },
  {
   "cell_type": "code",
   "execution_count": 20,
   "id": "85f47522",
   "metadata": {
    "scrolled": true
   },
   "outputs": [
    {
     "name": "stdout",
     "output_type": "stream",
     "text": [
      "Null Value in Qualification : 0\n",
      "Number of Unique Values in Qualification : 3\n"
     ]
    }
   ],
   "source": [
    "print(\"Null Value in Qualification :\", data['qualification'].isnull().sum())\n",
    "print(\"Number of Unique Values in Qualification :\", data['qualification'].nunique())"
   ]
  },
  {
   "cell_type": "code",
   "execution_count": 21,
   "id": "f4fbe91d",
   "metadata": {
    "scrolled": false
   },
   "outputs": [
    {
     "data": {
      "text/plain": [
       "array(['Bachelor', 'High School', 'Others'], dtype=object)"
      ]
     },
     "execution_count": 21,
     "metadata": {},
     "output_type": "execute_result"
    }
   ],
   "source": [
    "data['qualification'].unique()"
   ]
  },
  {
   "cell_type": "code",
   "execution_count": 22,
   "id": "98c35ebc",
   "metadata": {},
   "outputs": [
    {
     "name": "stdout",
     "output_type": "stream",
     "text": [
      "Number of Bachelor, High School and Others in Qualification are :\n",
      " High School    46247\n",
      "Bachelor       39399\n",
      "Others          3746\n",
      "Name: qualification, dtype: int64\n"
     ]
    }
   ],
   "source": [
    "print(\"Number of Bachelor, High School and Others in Qualification are :\\n\", data['qualification'].value_counts())"
   ]
  },
  {
   "cell_type": "code",
   "execution_count": 23,
   "id": "90184c31",
   "metadata": {},
   "outputs": [
    {
     "name": "stdout",
     "output_type": "stream",
     "text": [
      "Percentage of Bachelor: 44.07%\n",
      "Percentage of High School: 51.74%\n",
      "Percentage of Others: 4.19%\n",
      "Missing values percentage: 0.00%\n"
     ]
    }
   ],
   "source": [
    "countBachelor = len(data[data.qualification == 'Bachelor'])\n",
    "countHigh_School = len(data[data.qualification == 'High School'])\n",
    "countOthers = len(data[data.qualification == 'Others'])\n",
    "countNull = len(data[data.qualification.isnull()])\n",
    "\n",
    "print(\"Percentage of Bachelor: {:.2f}%\".format((countBachelor / (len(data.qualification)))*100))\n",
    "print(\"Percentage of High School: {:.2f}%\".format((countHigh_School / (len(data.qualification)))*100))\n",
    "print(\"Percentage of Others: {:.2f}%\".format((countOthers / (len(data.qualification)))*100))\n",
    "print(\"Missing values percentage: {:.2f}%\".format((countNull / (len(data.qualification)))*100))"
   ]
  },
  {
   "cell_type": "code",
   "execution_count": 24,
   "id": "58eb5170",
   "metadata": {},
   "outputs": [
    {
     "data": {
      "image/png": "[encoded data removed]",
      "text/plain": [
       "<Figure size 432x288 with 1 Axes>"
      ]
     },
     "metadata": {
      "needs_background": "light"
     },
     "output_type": "display_data"
    }
   ],
   "source": [
    "sns.countplot(x = \"qualification\", data = data, palette = \"hls\")\n",
    "plt.show()"
   ]
  },
  {
   "cell_type": "markdown",
   "id": "2d4a400f",
   "metadata": {},
   "source": [
    "Income"
   ]
  },
  {
   "cell_type": "code",
   "execution_count": 25,
   "id": "5e015d8e",
   "metadata": {
    "scrolled": true
   },
   "outputs": [
    {
     "name": "stdout",
     "output_type": "stream",
     "text": [
      "Null Value in Income : 0\n",
      "Number of Unique Values in Income : 4\n"
     ]
    }
   ],
   "source": [
    "print(\"Null Value in Income :\", data['income'].isnull().sum())\n",
    "print(\"Number of Unique Values in Income :\", data['income'].nunique())"
   ]
  },
  {
   "cell_type": "code",
   "execution_count": 26,
   "id": "aac3cf32",
   "metadata": {
    "scrolled": false
   },
   "outputs": [
    {
     "data": {
      "text/plain": [
       "array(['5L-10L', 'More than 10L', '2L-5L', '<=2L'], dtype=object)"
      ]
     },
     "execution_count": 26,
     "metadata": {},
     "output_type": "execute_result"
    }
   ],
   "source": [
    "data['income'].unique()"
   ]
  },
  {
   "cell_type": "code",
   "execution_count": 27,
   "id": "5a558b29",
   "metadata": {
    "scrolled": true
   },
   "outputs": [
    {
     "name": "stdout",
     "output_type": "stream",
     "text": [
      "Count of Income Categories: \n",
      " 5L-10L           52716\n",
      "2L-5L            21158\n",
      "More than 10L    13664\n",
      "<=2L              1854\n",
      "Name: income, dtype: int64\n"
     ]
    }
   ],
   "source": [
    "print(\"Count of Income Categories: \\n\", data['income'].value_counts())"
   ]
  },
  {
   "cell_type": "code",
   "execution_count": 28,
   "id": "13b85655",
   "metadata": {},
   "outputs": [
    {
     "name": "stdout",
     "output_type": "stream",
     "text": [
      "Precentage of Income categories:\n"
     ]
    },
    {
     "data": {
      "text/plain": [
       "5L-10L           58.97\n",
       "2L-5L            23.67\n",
       "More than 10L    15.29\n",
       "<=2L              2.07\n",
       "Name: income, dtype: float64"
      ]
     },
     "execution_count": 28,
     "metadata": {},
     "output_type": "execute_result"
    }
   ],
   "source": [
    "print(\"Precentage of Income categories:\")\n",
    "round((data['income'].value_counts() / len(data.income))*100, 2)"
   ]
  },
  {
   "cell_type": "code",
   "execution_count": 29,
   "id": "0eb848ff",
   "metadata": {},
   "outputs": [
    {
     "data": {
      "image/png": "[encoded data removed]",
      "text/plain": [
       "<Figure size 432x288 with 1 Axes>"
      ]
     },
     "metadata": {
      "needs_background": "light"
     },
     "output_type": "display_data"
    }
   ],
   "source": [
    "sns.countplot(x = \"income\", data = data, palette = \"hls\")\n",
    "plt.show()"
   ]
  },
  {
   "cell_type": "markdown",
   "id": "51585a5b",
   "metadata": {},
   "source": [
    "num_policies"
   ]
  },
  {
   "cell_type": "code",
   "execution_count": 30,
   "id": "55160652",
   "metadata": {
    "scrolled": false
   },
   "outputs": [
    {
     "name": "stdout",
     "output_type": "stream",
     "text": [
      "Null Value in num_policies : 0\n",
      "Number of Unique Values in num_policies : 2\n"
     ]
    }
   ],
   "source": [
    "print(\"Null Value in num_policies :\", data['num_policies'].isnull().sum())\n",
    "print(\"Number of Unique Values in num_policies :\", data['num_policies'].nunique())"
   ]
  },
  {
   "cell_type": "code",
   "execution_count": 31,
   "id": "f94b7e55",
   "metadata": {
    "scrolled": false
   },
   "outputs": [
    {
     "data": {
      "text/plain": [
       "array(['More than 1', '1'], dtype=object)"
      ]
     },
     "execution_count": 31,
     "metadata": {},
     "output_type": "execute_result"
    }
   ],
   "source": [
    "data['num_policies'].unique()"
   ]
  },
  {
   "cell_type": "code",
   "execution_count": 32,
   "id": "fd0fd86d",
   "metadata": {},
   "outputs": [
    {
     "name": "stdout",
     "output_type": "stream",
     "text": [
      "Count of More than 1 and 1 in num_policies are :\n",
      " More than 1    60263\n",
      "1              29129\n",
      "Name: num_policies, dtype: int64\n"
     ]
    }
   ],
   "source": [
    "print(\"Count of More than 1 and 1 in num_policies are :\\n\", data['num_policies'].value_counts())"
   ]
  },
  {
   "cell_type": "code",
   "execution_count": 33,
   "id": "b14c5596",
   "metadata": {},
   "outputs": [
    {
     "name": "stdout",
     "output_type": "stream",
     "text": [
      "Percentage of More than 1: 67.41%\n",
      "Percentage of 1: 32.59%\n",
      "Missing values percentage: 0.00%\n"
     ]
    }
   ],
   "source": [
    "countMore_than_1 = len(data[data.num_policies == 'More than 1'])\n",
    "count1 = len(data[data.num_policies == \"1\"])\n",
    "countNull = len(data[data.num_policies.isnull()])\n",
    "\n",
    "print(\"Percentage of More than 1: {:.2f}%\".format((countMore_than_1 / (len(data.num_policies)))*100))\n",
    "print(\"Percentage of 1: {:.2f}%\".format((count1 / (len(data.num_policies)))*100))\n",
    "print(\"Missing values percentage: {:.2f}%\".format((countNull / (len(data.num_policies)))*100))"
   ]
  },
  {
   "cell_type": "code",
   "execution_count": 34,
   "id": "acc2950e",
   "metadata": {
    "scrolled": true
   },
   "outputs": [
    {
     "data": {
      "image/png": "[encoded data removed]",
      "text/plain": [
       "<Figure size 432x288 with 1 Axes>"
      ]
     },
     "metadata": {
      "needs_background": "light"
     },
     "output_type": "display_data"
    }
   ],
   "source": [
    "sns.countplot(x = \"num_policies\", data = data, palette = \"hls\")\n",
    "plt.show()"
   ]
  },
  {
   "cell_type": "markdown",
   "id": "9d3b441b",
   "metadata": {},
   "source": [
    "policy"
   ]
  },
  {
   "cell_type": "code",
   "execution_count": 35,
   "id": "aa3595ad",
   "metadata": {
    "scrolled": false
   },
   "outputs": [
    {
     "name": "stdout",
     "output_type": "stream",
     "text": [
      "Null Value in policy : 0\n",
      "Number of Unique Values in policy : 3\n"
     ]
    }
   ],
   "source": [
    "print(\"Null Value in policy :\", data['policy'].isnull().sum())\n",
    "print(\"Number of Unique Values in policy :\", data['policy'].nunique())"
   ]
  },
  {
   "cell_type": "code",
   "execution_count": 36,
   "id": "a951efc4",
   "metadata": {
    "scrolled": false
   },
   "outputs": [
    {
     "data": {
      "text/plain": [
       "array(['A', 'C', 'B'], dtype=object)"
      ]
     },
     "execution_count": 36,
     "metadata": {},
     "output_type": "execute_result"
    }
   ],
   "source": [
    "data['policy'].unique()"
   ]
  },
  {
   "cell_type": "code",
   "execution_count": 37,
   "id": "8b6b2534",
   "metadata": {},
   "outputs": [
    {
     "name": "stdout",
     "output_type": "stream",
     "text": [
      "Count of A, B and C in policy are :\n",
      " A    56644\n",
      "B    24635\n",
      "C     8113\n",
      "Name: policy, dtype: int64\n"
     ]
    }
   ],
   "source": [
    "print(\"Count of A, B and C in policy are :\\n\", data['policy'].value_counts())"
   ]
  },
  {
   "cell_type": "code",
   "execution_count": 38,
   "id": "2f41694c",
   "metadata": {},
   "outputs": [
    {
     "name": "stdout",
     "output_type": "stream",
     "text": [
      "Percentage of A: 63.37%\n",
      "Percentage of B: 27.56%\n",
      "Percentage of C: 9.08%\n",
      "Missing values percentage: 0.00%\n"
     ]
    }
   ],
   "source": [
    "countA = len(data[data.policy == 'A'])\n",
    "countB = len(data[data.policy == \"B\"])\n",
    "countC = len(data[data.policy == \"C\"])\n",
    "countNull = len(data[data.policy.isnull()])\n",
    "\n",
    "print(\"Percentage of A: {:.2f}%\".format((countA / (len(data.policy)))*100))\n",
    "print(\"Percentage of B: {:.2f}%\".format((countB / (len(data.policy)))*100))\n",
    "print(\"Percentage of C: {:.2f}%\".format((countC / (len(data.policy)))*100))\n",
    "print(\"Missing values percentage: {:.2f}%\".format((countNull / (len(data.policy)))*100))"
   ]
  },
  {
   "cell_type": "code",
   "execution_count": 39,
   "id": "d28e3f9a",
   "metadata": {
    "scrolled": false
   },
   "outputs": [
    {
     "data": {
      "image/png": "[encoded data removed]",
      "text/plain": [
       "<Figure size 432x288 with 1 Axes>"
      ]
     },
     "metadata": {
      "needs_background": "light"
     },
     "output_type": "display_data"
    }
   ],
   "source": [
    "sns.countplot(x = \"policy\", data = data, palette = \"hls\")\n",
    "plt.show()"
   ]
  },
  {
   "cell_type": "markdown",
   "id": "a594369f",
   "metadata": {},
   "source": [
    "type_of_policy"
   ]
  },
  {
   "cell_type": "code",
   "execution_count": 40,
   "id": "b141041c",
   "metadata": {
    "scrolled": false
   },
   "outputs": [
    {
     "name": "stdout",
     "output_type": "stream",
     "text": [
      "Null Value in Type of Policy : 0\n",
      "Number of Unique Values in Type of Policy : 3\n"
     ]
    }
   ],
   "source": [
    "print(\"Null Value in Type of Policy :\", data['type_of_policy'].isnull().sum())\n",
    "print(\"Number of Unique Values in Type of Policy :\", data['type_of_policy'].nunique())"
   ]
  },
  {
   "cell_type": "code",
   "execution_count": 41,
   "id": "32f28f73",
   "metadata": {
    "scrolled": false
   },
   "outputs": [
    {
     "data": {
      "text/plain": [
       "array(['Platinum', 'Gold', 'Silver'], dtype=object)"
      ]
     },
     "execution_count": 41,
     "metadata": {},
     "output_type": "execute_result"
    }
   ],
   "source": [
    "data['type_of_policy'].unique()"
   ]
  },
  {
   "cell_type": "code",
   "execution_count": 42,
   "id": "7994e96b",
   "metadata": {},
   "outputs": [
    {
     "name": "stdout",
     "output_type": "stream",
     "text": [
      "Count of Platinum, Gold and Silver in policy are :\n",
      " Platinum    47796\n",
      "Silver      21010\n",
      "Gold        20586\n",
      "Name: type_of_policy, dtype: int64\n"
     ]
    }
   ],
   "source": [
    "print(\"Count of Platinum, Gold and Silver in policy are :\\n\", data['type_of_policy'].value_counts())"
   ]
  },
  {
   "cell_type": "code",
   "execution_count": 43,
   "id": "8233f9ee",
   "metadata": {},
   "outputs": [
    {
     "name": "stdout",
     "output_type": "stream",
     "text": [
      "Percentage of Platinum: 53.47%\n",
      "Percentage of Gold: 23.03%\n",
      "Percentage of Silver: 23.50%\n",
      "Missing values percentage: 0.00%\n"
     ]
    }
   ],
   "source": [
    "countPlatinum = len(data[data.type_of_policy == 'Platinum'])\n",
    "countGold = len(data[data.type_of_policy == \"Gold\"])\n",
    "countSilver = len(data[data.type_of_policy == \"Silver\"])\n",
    "countNull = len(data[data.type_of_policy.isnull()])\n",
    "\n",
    "print(\"Percentage of Platinum: {:.2f}%\".format((countPlatinum / (len(data.type_of_policy)))*100))\n",
    "print(\"Percentage of Gold: {:.2f}%\".format((countGold / (len(data.type_of_policy)))*100))\n",
    "print(\"Percentage of Silver: {:.2f}%\".format((countSilver / (len(data.type_of_policy)))*100))\n",
    "print(\"Missing values percentage: {:.2f}%\".format((countNull / (len(data.type_of_policy)))*100))"
   ]
  },
  {
   "cell_type": "code",
   "execution_count": 44,
   "id": "c36c5f36",
   "metadata": {
    "scrolled": false
   },
   "outputs": [
    {
     "data": {
      "image/png": "[encoded data removed]",
      "text/plain": [
       "<Figure size 432x288 with 1 Axes>"
      ]
     },
     "metadata": {
      "needs_background": "light"
     },
     "output_type": "display_data"
    }
   ],
   "source": [
    "sns.countplot(x = \"type_of_policy\", data = data, palette = \"hls\")\n",
    "plt.show()"
   ]
  },
  {
   "cell_type": "markdown",
   "id": "c42ef69b",
   "metadata": {},
   "source": [
    "### Numerical"
   ]
  },
  {
   "cell_type": "code",
   "execution_count": 45,
   "id": "49ec764d",
   "metadata": {},
   "outputs": [
    {
     "data": {
      "text/html": [
       "<div>\n",
       "<style scoped>\n",
       "    .dataframe tbody tr th:only-of-type {\n",
       "        vertical-align: middle;\n",
       "    }\n",
       "\n",
       "    .dataframe tbody tr th {\n",
       "        vertical-align: top;\n",
       "    }\n",
       "\n",
       "    .dataframe thead th {\n",
       "        text-align: right;\n",
       "    }\n",
       "</style>\n",
       "<table border=\"1\" class=\"dataframe\">\n",
       "  <thead>\n",
       "    <tr style=\"text-align: right;\">\n",
       "      <th></th>\n",
       "      <th>marital_status</th>\n",
       "      <th>vintage</th>\n",
       "      <th>claim_amount</th>\n",
       "      <th>cltv</th>\n",
       "    </tr>\n",
       "  </thead>\n",
       "  <tbody>\n",
       "    <tr>\n",
       "      <th>count</th>\n",
       "      <td>89392.000000</td>\n",
       "      <td>89392.000000</td>\n",
       "      <td>89392.000000</td>\n",
       "      <td>89392.000000</td>\n",
       "    </tr>\n",
       "    <tr>\n",
       "      <th>mean</th>\n",
       "      <td>0.575488</td>\n",
       "      <td>4.595669</td>\n",
       "      <td>4351.502416</td>\n",
       "      <td>97952.828978</td>\n",
       "    </tr>\n",
       "    <tr>\n",
       "      <th>std</th>\n",
       "      <td>0.494272</td>\n",
       "      <td>2.290446</td>\n",
       "      <td>3262.359775</td>\n",
       "      <td>90613.814793</td>\n",
       "    </tr>\n",
       "    <tr>\n",
       "      <th>min</th>\n",
       "      <td>0.000000</td>\n",
       "      <td>0.000000</td>\n",
       "      <td>0.000000</td>\n",
       "      <td>24828.000000</td>\n",
       "    </tr>\n",
       "    <tr>\n",
       "      <th>25%</th>\n",
       "      <td>0.000000</td>\n",
       "      <td>3.000000</td>\n",
       "      <td>2406.000000</td>\n",
       "      <td>52836.000000</td>\n",
       "    </tr>\n",
       "    <tr>\n",
       "      <th>50%</th>\n",
       "      <td>1.000000</td>\n",
       "      <td>5.000000</td>\n",
       "      <td>4089.000000</td>\n",
       "      <td>66396.000000</td>\n",
       "    </tr>\n",
       "    <tr>\n",
       "      <th>75%</th>\n",
       "      <td>1.000000</td>\n",
       "      <td>6.000000</td>\n",
       "      <td>6094.000000</td>\n",
       "      <td>103440.000000</td>\n",
       "    </tr>\n",
       "    <tr>\n",
       "      <th>max</th>\n",
       "      <td>1.000000</td>\n",
       "      <td>8.000000</td>\n",
       "      <td>31894.000000</td>\n",
       "      <td>724068.000000</td>\n",
       "    </tr>\n",
       "  </tbody>\n",
       "</table>\n",
       "</div>"
      ],
      "text/plain": [
       "       marital_status       vintage  claim_amount           cltv\n",
       "count    89392.000000  89392.000000  89392.000000   89392.000000\n",
       "mean         0.575488      4.595669   4351.502416   97952.828978\n",
       "std          0.494272      2.290446   3262.359775   90613.814793\n",
       "min          0.000000      0.000000      0.000000   24828.000000\n",
       "25%          0.000000      3.000000   2406.000000   52836.000000\n",
       "50%          1.000000      5.000000   4089.000000   66396.000000\n",
       "75%          1.000000      6.000000   6094.000000  103440.000000\n",
       "max          1.000000      8.000000  31894.000000  724068.000000"
      ]
     },
     "execution_count": 45,
     "metadata": {},
     "output_type": "execute_result"
    }
   ],
   "source": [
    "data[data_num].describe()"
   ]
  },
  {
   "cell_type": "markdown",
   "id": "da983533",
   "metadata": {},
   "source": [
    "marital_status =>\n",
    "1: married\n",
    "0: single"
   ]
  },
  {
   "cell_type": "code",
   "execution_count": 46,
   "id": "1e51d77c",
   "metadata": {
    "scrolled": false
   },
   "outputs": [
    {
     "name": "stdout",
     "output_type": "stream",
     "text": [
      "Null Value in marital_status : 0\n",
      "Number of Unique Values in marital_status : 2\n"
     ]
    }
   ],
   "source": [
    "print(\"Null Value in marital_status :\", data['marital_status'].isnull().sum())\n",
    "print(\"Number of Unique Values in marital_status :\", data['marital_status'].nunique())"
   ]
  },
  {
   "cell_type": "code",
   "execution_count": 47,
   "id": "96f17f88",
   "metadata": {
    "scrolled": false
   },
   "outputs": [
    {
     "data": {
      "text/plain": [
       "count    89392.000000\n",
       "mean         0.575488\n",
       "std          0.494272\n",
       "min          0.000000\n",
       "25%          0.000000\n",
       "50%          1.000000\n",
       "75%          1.000000\n",
       "max          1.000000\n",
       "Name: marital_status, dtype: float64"
      ]
     },
     "execution_count": 47,
     "metadata": {},
     "output_type": "execute_result"
    }
   ],
   "source": [
    "data['marital_status'].describe()"
   ]
  },
  {
   "cell_type": "code",
   "execution_count": 48,
   "id": "9f80dc0a",
   "metadata": {},
   "outputs": [
    {
     "name": "stdout",
     "output_type": "stream",
     "text": [
      "Number of married and unmarried in marital_status are :\n",
      " 1    51444\n",
      "0    37948\n",
      "Name: marital_status, dtype: int64\n"
     ]
    }
   ],
   "source": [
    "print(\"Number of married and unmarried in marital_status are :\\n\", data['marital_status'].value_counts())"
   ]
  },
  {
   "cell_type": "code",
   "execution_count": 49,
   "id": "44031981",
   "metadata": {},
   "outputs": [
    {
     "name": "stdout",
     "output_type": "stream",
     "text": [
      "Percentage of Married: 57.55%\n",
      "Percentage of Unmarried: 42.45%\n",
      "Missing values percentage: 0.00%\n"
     ]
    }
   ],
   "source": [
    "countMarried = len(data[data.marital_status == 1])\n",
    "countUnmarried = len(data[data.marital_status == 0])\n",
    "countNull = len(data[data.marital_status.isnull()])\n",
    "\n",
    "print(\"Percentage of Married: {:.2f}%\".format((countMarried / (len(data.marital_status)))*100))\n",
    "print(\"Percentage of Unmarried: {:.2f}%\".format((countUnmarried / (len(data.marital_status)))*100))\n",
    "print(\"Missing values percentage: {:.2f}%\".format((countNull / (len(data.marital_status)))*100))"
   ]
  },
  {
   "cell_type": "code",
   "execution_count": 50,
   "id": "cb48177b",
   "metadata": {
    "scrolled": false
   },
   "outputs": [
    {
     "data": {
      "text/plain": [
       "Text(0.5, 0, 'marital_status')"
      ]
     },
     "execution_count": 50,
     "metadata": {},
     "output_type": "execute_result"
    },
    {
     "data": {
      "image/png": "[encoded data removed]",
      "text/plain": [
       "<Figure size 432x288 with 1 Axes>"
      ]
     },
     "metadata": {},
     "output_type": "display_data"
    }
   ],
   "source": [
    "sns.set(style=\"darkgrid\")\n",
    "ax = sns.countplot(x=\"marital_status\", data = data, color='orange')\n",
    "ax.set_title('Countplot of marital_status')\n",
    "ax.set_xlabel('marital_status')"
   ]
  },
  {
   "cell_type": "markdown",
   "id": "2444c2ff",
   "metadata": {},
   "source": [
    "vintage"
   ]
  },
  {
   "cell_type": "code",
   "execution_count": 51,
   "id": "5b82c535",
   "metadata": {
    "scrolled": false
   },
   "outputs": [
    {
     "name": "stdout",
     "output_type": "stream",
     "text": [
      "Null Value in vintage : 0\n",
      "Number of Unique Values in vintage : 9\n"
     ]
    }
   ],
   "source": [
    "print(\"Null Value in vintage :\", data['vintage'].isnull().sum())\n",
    "print(\"Number of Unique Values in vintage :\", data['vintage'].nunique())"
   ]
  },
  {
   "cell_type": "code",
   "execution_count": 52,
   "id": "1c96f2bf",
   "metadata": {
    "scrolled": false
   },
   "outputs": [
    {
     "data": {
      "text/plain": [
       "count    89392.000000\n",
       "mean         4.595669\n",
       "std          2.290446\n",
       "min          0.000000\n",
       "25%          3.000000\n",
       "50%          5.000000\n",
       "75%          6.000000\n",
       "max          8.000000\n",
       "Name: vintage, dtype: float64"
      ]
     },
     "execution_count": 52,
     "metadata": {},
     "output_type": "execute_result"
    }
   ],
   "source": [
    "data['vintage'].describe()"
   ]
  },
  {
   "cell_type": "code",
   "execution_count": 53,
   "id": "7d63247b",
   "metadata": {
    "scrolled": true
   },
   "outputs": [
    {
     "name": "stdout",
     "output_type": "stream",
     "text": [
      "Count of vintage Categories: \n",
      " 6    17769\n",
      "7    13095\n",
      "5    12481\n",
      "4    10471\n",
      "2     9165\n",
      "1     7671\n",
      "8     7624\n",
      "3     7085\n",
      "0     4031\n",
      "Name: vintage, dtype: int64\n"
     ]
    }
   ],
   "source": [
    "print(\"Count of vintage Categories: \\n\", data['vintage'].value_counts())"
   ]
  },
  {
   "cell_type": "code",
   "execution_count": 54,
   "id": "aaab58b3",
   "metadata": {},
   "outputs": [
    {
     "name": "stdout",
     "output_type": "stream",
     "text": [
      "Precentage of vintage categories:\n"
     ]
    },
    {
     "data": {
      "text/plain": [
       "6    19.88\n",
       "7    14.65\n",
       "5    13.96\n",
       "4    11.71\n",
       "2    10.25\n",
       "1     8.58\n",
       "8     8.53\n",
       "3     7.93\n",
       "0     4.51\n",
       "Name: vintage, dtype: float64"
      ]
     },
     "execution_count": 54,
     "metadata": {},
     "output_type": "execute_result"
    }
   ],
   "source": [
    "print(\"Precentage of vintage categories:\")\n",
    "round((data['vintage'].value_counts() / len(data.vintage))*100, 2)"
   ]
  },
  {
   "cell_type": "code",
   "execution_count": 55,
   "id": "a3df4558",
   "metadata": {
    "scrolled": true
   },
   "outputs": [
    {
     "data": {
      "text/plain": [
       "Text(0.5, 0, 'vintage')"
      ]
     },
     "execution_count": 55,
     "metadata": {},
     "output_type": "execute_result"
    },
    {
     "data": {
      "image/png": "[encoded data removed]",
      "text/plain": [
       "<Figure size 432x288 with 1 Axes>"
      ]
     },
     "metadata": {},
     "output_type": "display_data"
    }
   ],
   "source": [
    "sns.set(style=\"darkgrid\")\n",
    "ax = sns.countplot(x=\"vintage\", data = data, color='orange')\n",
    "ax.set_title('Countplot of vintage')\n",
    "ax.set_xlabel('vintage')"
   ]
  },
  {
   "cell_type": "markdown",
   "id": "8fb274ec",
   "metadata": {},
   "source": [
    "claim_amount"
   ]
  },
  {
   "cell_type": "code",
   "execution_count": 56,
   "id": "251cf6e0",
   "metadata": {
    "scrolled": false
   },
   "outputs": [
    {
     "name": "stdout",
     "output_type": "stream",
     "text": [
      "Null Value in claim_amount : 0\n",
      "Number of Unique Values in claim_amount : 10889\n"
     ]
    }
   ],
   "source": [
    "print(\"Null Value in claim_amount :\", data['claim_amount'].isnull().sum())\n",
    "print(\"Number of Unique Values in claim_amount :\", data['claim_amount'].nunique())"
   ]
  },
  {
   "cell_type": "code",
   "execution_count": 57,
   "id": "2c042a60",
   "metadata": {
    "scrolled": false
   },
   "outputs": [
    {
     "data": {
      "text/plain": [
       "count    89392.000000\n",
       "mean      4351.502416\n",
       "std       3262.359775\n",
       "min          0.000000\n",
       "25%       2406.000000\n",
       "50%       4089.000000\n",
       "75%       6094.000000\n",
       "max      31894.000000\n",
       "Name: claim_amount, dtype: float64"
      ]
     },
     "execution_count": 57,
     "metadata": {},
     "output_type": "execute_result"
    }
   ],
   "source": [
    "data['claim_amount'].describe()"
   ]
  },
  {
   "cell_type": "code",
   "execution_count": 58,
   "id": "228e61a2",
   "metadata": {},
   "outputs": [
    {
     "data": {
      "text/plain": [
       "Text(0, 0.5, 'claim_amount')"
      ]
     },
     "execution_count": 58,
     "metadata": {},
     "output_type": "execute_result"
    },
    {
     "data": {
      "image/png": "[encoded data removed]",
      "text/plain": [
       "<Figure size 432x288 with 1 Axes>"
      ]
     },
     "metadata": {},
     "output_type": "display_data"
    }
   ],
   "source": [
    "sns.set(style=\"darkgrid\")\n",
    "ax = sns.boxplot(x=\"claim_amount\", data = data, color='orange')\n",
    "ax.set_title('Boxplot of claim_amount')\n",
    "ax.set_xlabel('Count')\n",
    "ax.set_ylabel('claim_amount')"
   ]
  },
  {
   "cell_type": "markdown",
   "id": "0544cbb6",
   "metadata": {},
   "source": [
    "### OUTLIERS"
   ]
  },
  {
   "cell_type": "code",
   "execution_count": 59,
   "id": "a480c1ed",
   "metadata": {},
   "outputs": [],
   "source": [
    "def outliers(df,col):\n",
    "        IQR=df[col].quantile(0.75)-df[col].quantile(0.25)\n",
    "        LW=df[col].quantile(0.25)-(IQR*1.5)\n",
    "        UW=df[col].quantile(0.75)+(IQR*1.5)\n",
    "        print(\"For feature {} Lower Whisker is {} and Upper Whisker is {} \\n\".format(col,LW,UW))\n"
   ]
  },
  {
   "cell_type": "code",
   "execution_count": 60,
   "id": "31f37021",
   "metadata": {},
   "outputs": [
    {
     "name": "stdout",
     "output_type": "stream",
     "text": [
      "For feature claim_amount Lower Whisker is -3126.0 and Upper Whisker is 11626.0 \n",
      "\n"
     ]
    }
   ],
   "source": [
    "outliers(data, \"claim_amount\")"
   ]
  },
  {
   "cell_type": "code",
   "execution_count": 61,
   "id": "92b7b42c",
   "metadata": {},
   "outputs": [],
   "source": [
    "IQR=data.claim_amount.quantile(0.75)-data.claim_amount.quantile(0.25)"
   ]
  },
  {
   "cell_type": "code",
   "execution_count": 62,
   "id": "c66c5613",
   "metadata": {},
   "outputs": [],
   "source": [
    "LW=data.claim_amount.quantile(0.25)-(IQR*1.5)"
   ]
  },
  {
   "cell_type": "code",
   "execution_count": 63,
   "id": "07d6ec2f",
   "metadata": {},
   "outputs": [],
   "source": [
    "UW=data.claim_amount.quantile(0.75)+(IQR*1.5)"
   ]
  },
  {
   "cell_type": "code",
   "execution_count": 64,
   "id": "7d5dc61c",
   "metadata": {
    "scrolled": true
   },
   "outputs": [],
   "source": [
    "count = 0\n",
    "for i in range(0, len(data)):\n",
    "    if (data.claim_amount[i]<LW):\n",
    "        count+=1"
   ]
  },
  {
   "cell_type": "code",
   "execution_count": 65,
   "id": "af2a4c7e",
   "metadata": {},
   "outputs": [
    {
     "data": {
      "text/plain": [
       "0"
      ]
     },
     "execution_count": 65,
     "metadata": {},
     "output_type": "execute_result"
    }
   ],
   "source": [
    "count"
   ]
  },
  {
   "cell_type": "code",
   "execution_count": 66,
   "id": "7ebbed39",
   "metadata": {},
   "outputs": [],
   "source": [
    "count2 = 0\n",
    "for i in range(0, len(data)):\n",
    "    if (data.claim_amount[i]>UW):\n",
    "        count2 += 1"
   ]
  },
  {
   "cell_type": "code",
   "execution_count": 67,
   "id": "01e6c11b",
   "metadata": {
    "scrolled": true
   },
   "outputs": [
    {
     "data": {
      "text/plain": [
       "2258"
      ]
     },
     "execution_count": 67,
     "metadata": {},
     "output_type": "execute_result"
    }
   ],
   "source": [
    "count2"
   ]
  },
  {
   "cell_type": "code",
   "execution_count": 68,
   "id": "aefcc3d2",
   "metadata": {},
   "outputs": [
    {
     "data": {
      "text/plain": [
       "0.02525953105423304"
      ]
     },
     "execution_count": 68,
     "metadata": {},
     "output_type": "execute_result"
    }
   ],
   "source": [
    "count2/len(data)"
   ]
  },
  {
   "cell_type": "code",
   "execution_count": 69,
   "id": "627e8488",
   "metadata": {},
   "outputs": [],
   "source": [
    "data = data[data[\"claim_amount\"]<=UW]"
   ]
  },
  {
   "cell_type": "code",
   "execution_count": 70,
   "id": "f7d6a891",
   "metadata": {},
   "outputs": [
    {
     "data": {
      "text/plain": [
       "(87134, 11)"
      ]
     },
     "execution_count": 70,
     "metadata": {},
     "output_type": "execute_result"
    }
   ],
   "source": [
    "data.shape"
   ]
  },
  {
   "cell_type": "code",
   "execution_count": 71,
   "id": "0519dc4f",
   "metadata": {},
   "outputs": [
    {
     "data": {
      "text/html": [
       "<div>\n",
       "<style scoped>\n",
       "    .dataframe tbody tr th:only-of-type {\n",
       "        vertical-align: middle;\n",
       "    }\n",
       "\n",
       "    .dataframe tbody tr th {\n",
       "        vertical-align: top;\n",
       "    }\n",
       "\n",
       "    .dataframe thead th {\n",
       "        text-align: right;\n",
       "    }\n",
       "</style>\n",
       "<table border=\"1\" class=\"dataframe\">\n",
       "  <thead>\n",
       "    <tr style=\"text-align: right;\">\n",
       "      <th></th>\n",
       "      <th>gender</th>\n",
       "      <th>area</th>\n",
       "      <th>qualification</th>\n",
       "      <th>income</th>\n",
       "      <th>marital_status</th>\n",
       "      <th>vintage</th>\n",
       "      <th>claim_amount</th>\n",
       "      <th>num_policies</th>\n",
       "      <th>policy</th>\n",
       "      <th>type_of_policy</th>\n",
       "      <th>cltv</th>\n",
       "    </tr>\n",
       "  </thead>\n",
       "  <tbody>\n",
       "    <tr>\n",
       "      <th>0</th>\n",
       "      <td>Male</td>\n",
       "      <td>Urban</td>\n",
       "      <td>Bachelor</td>\n",
       "      <td>5L-10L</td>\n",
       "      <td>1</td>\n",
       "      <td>5</td>\n",
       "      <td>5790</td>\n",
       "      <td>More than 1</td>\n",
       "      <td>A</td>\n",
       "      <td>Platinum</td>\n",
       "      <td>64308</td>\n",
       "    </tr>\n",
       "    <tr>\n",
       "      <th>1</th>\n",
       "      <td>Male</td>\n",
       "      <td>Rural</td>\n",
       "      <td>High School</td>\n",
       "      <td>5L-10L</td>\n",
       "      <td>0</td>\n",
       "      <td>8</td>\n",
       "      <td>5080</td>\n",
       "      <td>More than 1</td>\n",
       "      <td>A</td>\n",
       "      <td>Platinum</td>\n",
       "      <td>515400</td>\n",
       "    </tr>\n",
       "    <tr>\n",
       "      <th>2</th>\n",
       "      <td>Male</td>\n",
       "      <td>Urban</td>\n",
       "      <td>Bachelor</td>\n",
       "      <td>5L-10L</td>\n",
       "      <td>1</td>\n",
       "      <td>8</td>\n",
       "      <td>2599</td>\n",
       "      <td>More than 1</td>\n",
       "      <td>A</td>\n",
       "      <td>Platinum</td>\n",
       "      <td>64212</td>\n",
       "    </tr>\n",
       "    <tr>\n",
       "      <th>3</th>\n",
       "      <td>Female</td>\n",
       "      <td>Rural</td>\n",
       "      <td>High School</td>\n",
       "      <td>5L-10L</td>\n",
       "      <td>0</td>\n",
       "      <td>7</td>\n",
       "      <td>0</td>\n",
       "      <td>More than 1</td>\n",
       "      <td>A</td>\n",
       "      <td>Platinum</td>\n",
       "      <td>97920</td>\n",
       "    </tr>\n",
       "    <tr>\n",
       "      <th>4</th>\n",
       "      <td>Male</td>\n",
       "      <td>Urban</td>\n",
       "      <td>High School</td>\n",
       "      <td>More than 10L</td>\n",
       "      <td>1</td>\n",
       "      <td>6</td>\n",
       "      <td>3508</td>\n",
       "      <td>More than 1</td>\n",
       "      <td>A</td>\n",
       "      <td>Gold</td>\n",
       "      <td>59736</td>\n",
       "    </tr>\n",
       "    <tr>\n",
       "      <th>5</th>\n",
       "      <td>Male</td>\n",
       "      <td>Rural</td>\n",
       "      <td>High School</td>\n",
       "      <td>More than 10L</td>\n",
       "      <td>1</td>\n",
       "      <td>1</td>\n",
       "      <td>0</td>\n",
       "      <td>1</td>\n",
       "      <td>C</td>\n",
       "      <td>Gold</td>\n",
       "      <td>348768</td>\n",
       "    </tr>\n",
       "    <tr>\n",
       "      <th>6</th>\n",
       "      <td>Female</td>\n",
       "      <td>Rural</td>\n",
       "      <td>Bachelor</td>\n",
       "      <td>5L-10L</td>\n",
       "      <td>1</td>\n",
       "      <td>6</td>\n",
       "      <td>0</td>\n",
       "      <td>More than 1</td>\n",
       "      <td>A</td>\n",
       "      <td>Gold</td>\n",
       "      <td>238920</td>\n",
       "    </tr>\n",
       "    <tr>\n",
       "      <th>7</th>\n",
       "      <td>Female</td>\n",
       "      <td>Urban</td>\n",
       "      <td>High School</td>\n",
       "      <td>5L-10L</td>\n",
       "      <td>0</td>\n",
       "      <td>0</td>\n",
       "      <td>5473</td>\n",
       "      <td>More than 1</td>\n",
       "      <td>A</td>\n",
       "      <td>Silver</td>\n",
       "      <td>64128</td>\n",
       "    </tr>\n",
       "    <tr>\n",
       "      <th>8</th>\n",
       "      <td>Female</td>\n",
       "      <td>Urban</td>\n",
       "      <td>High School</td>\n",
       "      <td>5L-10L</td>\n",
       "      <td>1</td>\n",
       "      <td>3</td>\n",
       "      <td>6105</td>\n",
       "      <td>More than 1</td>\n",
       "      <td>A</td>\n",
       "      <td>Gold</td>\n",
       "      <td>94536</td>\n",
       "    </tr>\n",
       "    <tr>\n",
       "      <th>9</th>\n",
       "      <td>Male</td>\n",
       "      <td>Rural</td>\n",
       "      <td>High School</td>\n",
       "      <td>More than 10L</td>\n",
       "      <td>1</td>\n",
       "      <td>6</td>\n",
       "      <td>0</td>\n",
       "      <td>More than 1</td>\n",
       "      <td>A</td>\n",
       "      <td>Platinum</td>\n",
       "      <td>99060</td>\n",
       "    </tr>\n",
       "    <tr>\n",
       "      <th>10</th>\n",
       "      <td>Male</td>\n",
       "      <td>Urban</td>\n",
       "      <td>High School</td>\n",
       "      <td>5L-10L</td>\n",
       "      <td>0</td>\n",
       "      <td>4</td>\n",
       "      <td>4329</td>\n",
       "      <td>More than 1</td>\n",
       "      <td>A</td>\n",
       "      <td>Platinum</td>\n",
       "      <td>74148</td>\n",
       "    </tr>\n",
       "    <tr>\n",
       "      <th>11</th>\n",
       "      <td>Male</td>\n",
       "      <td>Urban</td>\n",
       "      <td>Bachelor</td>\n",
       "      <td>2L-5L</td>\n",
       "      <td>0</td>\n",
       "      <td>6</td>\n",
       "      <td>6351</td>\n",
       "      <td>More than 1</td>\n",
       "      <td>C</td>\n",
       "      <td>Silver</td>\n",
       "      <td>64008</td>\n",
       "    </tr>\n",
       "    <tr>\n",
       "      <th>12</th>\n",
       "      <td>Male</td>\n",
       "      <td>Urban</td>\n",
       "      <td>Bachelor</td>\n",
       "      <td>2L-5L</td>\n",
       "      <td>1</td>\n",
       "      <td>7</td>\n",
       "      <td>4327</td>\n",
       "      <td>1</td>\n",
       "      <td>A</td>\n",
       "      <td>Platinum</td>\n",
       "      <td>60828</td>\n",
       "    </tr>\n",
       "    <tr>\n",
       "      <th>13</th>\n",
       "      <td>Male</td>\n",
       "      <td>Urban</td>\n",
       "      <td>Bachelor</td>\n",
       "      <td>2L-5L</td>\n",
       "      <td>1</td>\n",
       "      <td>1</td>\n",
       "      <td>4615</td>\n",
       "      <td>More than 1</td>\n",
       "      <td>C</td>\n",
       "      <td>Silver</td>\n",
       "      <td>133344</td>\n",
       "    </tr>\n",
       "    <tr>\n",
       "      <th>14</th>\n",
       "      <td>Male</td>\n",
       "      <td>Urban</td>\n",
       "      <td>Bachelor</td>\n",
       "      <td>5L-10L</td>\n",
       "      <td>0</td>\n",
       "      <td>8</td>\n",
       "      <td>6915</td>\n",
       "      <td>More than 1</td>\n",
       "      <td>A</td>\n",
       "      <td>Platinum</td>\n",
       "      <td>65400</td>\n",
       "    </tr>\n",
       "    <tr>\n",
       "      <th>15</th>\n",
       "      <td>Female</td>\n",
       "      <td>Urban</td>\n",
       "      <td>High School</td>\n",
       "      <td>2L-5L</td>\n",
       "      <td>0</td>\n",
       "      <td>1</td>\n",
       "      <td>5398</td>\n",
       "      <td>1</td>\n",
       "      <td>A</td>\n",
       "      <td>Gold</td>\n",
       "      <td>55764</td>\n",
       "    </tr>\n",
       "    <tr>\n",
       "      <th>16</th>\n",
       "      <td>Male</td>\n",
       "      <td>Rural</td>\n",
       "      <td>Bachelor</td>\n",
       "      <td>5L-10L</td>\n",
       "      <td>0</td>\n",
       "      <td>5</td>\n",
       "      <td>0</td>\n",
       "      <td>1</td>\n",
       "      <td>A</td>\n",
       "      <td>Silver</td>\n",
       "      <td>29124</td>\n",
       "    </tr>\n",
       "    <tr>\n",
       "      <th>17</th>\n",
       "      <td>Female</td>\n",
       "      <td>Rural</td>\n",
       "      <td>High School</td>\n",
       "      <td>More than 10L</td>\n",
       "      <td>1</td>\n",
       "      <td>2</td>\n",
       "      <td>0</td>\n",
       "      <td>More than 1</td>\n",
       "      <td>A</td>\n",
       "      <td>Silver</td>\n",
       "      <td>102876</td>\n",
       "    </tr>\n",
       "    <tr>\n",
       "      <th>18</th>\n",
       "      <td>Female</td>\n",
       "      <td>Urban</td>\n",
       "      <td>High School</td>\n",
       "      <td>5L-10L</td>\n",
       "      <td>1</td>\n",
       "      <td>7</td>\n",
       "      <td>4336</td>\n",
       "      <td>More than 1</td>\n",
       "      <td>C</td>\n",
       "      <td>Platinum</td>\n",
       "      <td>75036</td>\n",
       "    </tr>\n",
       "    <tr>\n",
       "      <th>19</th>\n",
       "      <td>Female</td>\n",
       "      <td>Urban</td>\n",
       "      <td>Bachelor</td>\n",
       "      <td>More than 10L</td>\n",
       "      <td>1</td>\n",
       "      <td>2</td>\n",
       "      <td>7541</td>\n",
       "      <td>More than 1</td>\n",
       "      <td>A</td>\n",
       "      <td>Platinum</td>\n",
       "      <td>110568</td>\n",
       "    </tr>\n",
       "    <tr>\n",
       "      <th>20</th>\n",
       "      <td>Male</td>\n",
       "      <td>Urban</td>\n",
       "      <td>High School</td>\n",
       "      <td>5L-10L</td>\n",
       "      <td>0</td>\n",
       "      <td>8</td>\n",
       "      <td>8029</td>\n",
       "      <td>More than 1</td>\n",
       "      <td>A</td>\n",
       "      <td>Silver</td>\n",
       "      <td>113340</td>\n",
       "    </tr>\n",
       "    <tr>\n",
       "      <th>21</th>\n",
       "      <td>Male</td>\n",
       "      <td>Urban</td>\n",
       "      <td>High School</td>\n",
       "      <td>2L-5L</td>\n",
       "      <td>0</td>\n",
       "      <td>7</td>\n",
       "      <td>6132</td>\n",
       "      <td>1</td>\n",
       "      <td>A</td>\n",
       "      <td>Platinum</td>\n",
       "      <td>34248</td>\n",
       "    </tr>\n",
       "    <tr>\n",
       "      <th>22</th>\n",
       "      <td>Female</td>\n",
       "      <td>Urban</td>\n",
       "      <td>Bachelor</td>\n",
       "      <td>5L-10L</td>\n",
       "      <td>1</td>\n",
       "      <td>6</td>\n",
       "      <td>2212</td>\n",
       "      <td>More than 1</td>\n",
       "      <td>B</td>\n",
       "      <td>Platinum</td>\n",
       "      <td>115632</td>\n",
       "    </tr>\n",
       "    <tr>\n",
       "      <th>23</th>\n",
       "      <td>Male</td>\n",
       "      <td>Urban</td>\n",
       "      <td>High School</td>\n",
       "      <td>5L-10L</td>\n",
       "      <td>1</td>\n",
       "      <td>7</td>\n",
       "      <td>2933</td>\n",
       "      <td>More than 1</td>\n",
       "      <td>A</td>\n",
       "      <td>Platinum</td>\n",
       "      <td>265080</td>\n",
       "    </tr>\n",
       "    <tr>\n",
       "      <th>24</th>\n",
       "      <td>Male</td>\n",
       "      <td>Urban</td>\n",
       "      <td>Bachelor</td>\n",
       "      <td>More than 10L</td>\n",
       "      <td>1</td>\n",
       "      <td>4</td>\n",
       "      <td>0</td>\n",
       "      <td>More than 1</td>\n",
       "      <td>C</td>\n",
       "      <td>Gold</td>\n",
       "      <td>67632</td>\n",
       "    </tr>\n",
       "    <tr>\n",
       "      <th>25</th>\n",
       "      <td>Female</td>\n",
       "      <td>Rural</td>\n",
       "      <td>Bachelor</td>\n",
       "      <td>5L-10L</td>\n",
       "      <td>1</td>\n",
       "      <td>3</td>\n",
       "      <td>3548</td>\n",
       "      <td>More than 1</td>\n",
       "      <td>B</td>\n",
       "      <td>Platinum</td>\n",
       "      <td>63396</td>\n",
       "    </tr>\n",
       "    <tr>\n",
       "      <th>26</th>\n",
       "      <td>Female</td>\n",
       "      <td>Urban</td>\n",
       "      <td>High School</td>\n",
       "      <td>2L-5L</td>\n",
       "      <td>1</td>\n",
       "      <td>7</td>\n",
       "      <td>3166</td>\n",
       "      <td>1</td>\n",
       "      <td>A</td>\n",
       "      <td>Platinum</td>\n",
       "      <td>48684</td>\n",
       "    </tr>\n",
       "    <tr>\n",
       "      <th>27</th>\n",
       "      <td>Male</td>\n",
       "      <td>Rural</td>\n",
       "      <td>Bachelor</td>\n",
       "      <td>5L-10L</td>\n",
       "      <td>1</td>\n",
       "      <td>7</td>\n",
       "      <td>0</td>\n",
       "      <td>1</td>\n",
       "      <td>A</td>\n",
       "      <td>Silver</td>\n",
       "      <td>30072</td>\n",
       "    </tr>\n",
       "    <tr>\n",
       "      <th>28</th>\n",
       "      <td>Female</td>\n",
       "      <td>Urban</td>\n",
       "      <td>High School</td>\n",
       "      <td>5L-10L</td>\n",
       "      <td>0</td>\n",
       "      <td>5</td>\n",
       "      <td>8145</td>\n",
       "      <td>More than 1</td>\n",
       "      <td>A</td>\n",
       "      <td>Silver</td>\n",
       "      <td>262260</td>\n",
       "    </tr>\n",
       "    <tr>\n",
       "      <th>29</th>\n",
       "      <td>Female</td>\n",
       "      <td>Rural</td>\n",
       "      <td>High School</td>\n",
       "      <td>5L-10L</td>\n",
       "      <td>1</td>\n",
       "      <td>3</td>\n",
       "      <td>0</td>\n",
       "      <td>1</td>\n",
       "      <td>A</td>\n",
       "      <td>Platinum</td>\n",
       "      <td>33552</td>\n",
       "    </tr>\n",
       "    <tr>\n",
       "      <th>30</th>\n",
       "      <td>Male</td>\n",
       "      <td>Urban</td>\n",
       "      <td>High School</td>\n",
       "      <td>5L-10L</td>\n",
       "      <td>1</td>\n",
       "      <td>1</td>\n",
       "      <td>5779</td>\n",
       "      <td>More than 1</td>\n",
       "      <td>C</td>\n",
       "      <td>Gold</td>\n",
       "      <td>62568</td>\n",
       "    </tr>\n",
       "    <tr>\n",
       "      <th>31</th>\n",
       "      <td>Male</td>\n",
       "      <td>Rural</td>\n",
       "      <td>Others</td>\n",
       "      <td>5L-10L</td>\n",
       "      <td>1</td>\n",
       "      <td>4</td>\n",
       "      <td>4834</td>\n",
       "      <td>1</td>\n",
       "      <td>C</td>\n",
       "      <td>Platinum</td>\n",
       "      <td>34824</td>\n",
       "    </tr>\n",
       "    <tr>\n",
       "      <th>32</th>\n",
       "      <td>Male</td>\n",
       "      <td>Rural</td>\n",
       "      <td>Bachelor</td>\n",
       "      <td>5L-10L</td>\n",
       "      <td>0</td>\n",
       "      <td>0</td>\n",
       "      <td>2854</td>\n",
       "      <td>1</td>\n",
       "      <td>B</td>\n",
       "      <td>Platinum</td>\n",
       "      <td>60156</td>\n",
       "    </tr>\n",
       "    <tr>\n",
       "      <th>33</th>\n",
       "      <td>Female</td>\n",
       "      <td>Rural</td>\n",
       "      <td>High School</td>\n",
       "      <td>2L-5L</td>\n",
       "      <td>1</td>\n",
       "      <td>7</td>\n",
       "      <td>2438</td>\n",
       "      <td>More than 1</td>\n",
       "      <td>B</td>\n",
       "      <td>Platinum</td>\n",
       "      <td>72888</td>\n",
       "    </tr>\n",
       "    <tr>\n",
       "      <th>34</th>\n",
       "      <td>Female</td>\n",
       "      <td>Urban</td>\n",
       "      <td>High School</td>\n",
       "      <td>5L-10L</td>\n",
       "      <td>1</td>\n",
       "      <td>7</td>\n",
       "      <td>3914</td>\n",
       "      <td>1</td>\n",
       "      <td>A</td>\n",
       "      <td>Platinum</td>\n",
       "      <td>65664</td>\n",
       "    </tr>\n",
       "    <tr>\n",
       "      <th>35</th>\n",
       "      <td>Male</td>\n",
       "      <td>Rural</td>\n",
       "      <td>High School</td>\n",
       "      <td>More than 10L</td>\n",
       "      <td>1</td>\n",
       "      <td>5</td>\n",
       "      <td>0</td>\n",
       "      <td>1</td>\n",
       "      <td>A</td>\n",
       "      <td>Silver</td>\n",
       "      <td>32292</td>\n",
       "    </tr>\n",
       "    <tr>\n",
       "      <th>36</th>\n",
       "      <td>Male</td>\n",
       "      <td>Urban</td>\n",
       "      <td>High School</td>\n",
       "      <td>5L-10L</td>\n",
       "      <td>0</td>\n",
       "      <td>1</td>\n",
       "      <td>2634</td>\n",
       "      <td>1</td>\n",
       "      <td>A</td>\n",
       "      <td>Platinum</td>\n",
       "      <td>55656</td>\n",
       "    </tr>\n",
       "    <tr>\n",
       "      <th>37</th>\n",
       "      <td>Female</td>\n",
       "      <td>Urban</td>\n",
       "      <td>High School</td>\n",
       "      <td>5L-10L</td>\n",
       "      <td>1</td>\n",
       "      <td>2</td>\n",
       "      <td>6473</td>\n",
       "      <td>More than 1</td>\n",
       "      <td>A</td>\n",
       "      <td>Platinum</td>\n",
       "      <td>106188</td>\n",
       "    </tr>\n",
       "    <tr>\n",
       "      <th>38</th>\n",
       "      <td>Female</td>\n",
       "      <td>Urban</td>\n",
       "      <td>High School</td>\n",
       "      <td>2L-5L</td>\n",
       "      <td>0</td>\n",
       "      <td>5</td>\n",
       "      <td>5573</td>\n",
       "      <td>1</td>\n",
       "      <td>A</td>\n",
       "      <td>Silver</td>\n",
       "      <td>34944</td>\n",
       "    </tr>\n",
       "    <tr>\n",
       "      <th>39</th>\n",
       "      <td>Female</td>\n",
       "      <td>Rural</td>\n",
       "      <td>High School</td>\n",
       "      <td>5L-10L</td>\n",
       "      <td>1</td>\n",
       "      <td>5</td>\n",
       "      <td>0</td>\n",
       "      <td>More than 1</td>\n",
       "      <td>A</td>\n",
       "      <td>Platinum</td>\n",
       "      <td>65496</td>\n",
       "    </tr>\n",
       "    <tr>\n",
       "      <th>40</th>\n",
       "      <td>Female</td>\n",
       "      <td>Urban</td>\n",
       "      <td>Bachelor</td>\n",
       "      <td>5L-10L</td>\n",
       "      <td>0</td>\n",
       "      <td>7</td>\n",
       "      <td>2806</td>\n",
       "      <td>More than 1</td>\n",
       "      <td>B</td>\n",
       "      <td>Silver</td>\n",
       "      <td>70236</td>\n",
       "    </tr>\n",
       "    <tr>\n",
       "      <th>41</th>\n",
       "      <td>Female</td>\n",
       "      <td>Rural</td>\n",
       "      <td>High School</td>\n",
       "      <td>5L-10L</td>\n",
       "      <td>0</td>\n",
       "      <td>6</td>\n",
       "      <td>2708</td>\n",
       "      <td>1</td>\n",
       "      <td>A</td>\n",
       "      <td>Silver</td>\n",
       "      <td>47964</td>\n",
       "    </tr>\n",
       "    <tr>\n",
       "      <th>42</th>\n",
       "      <td>Female</td>\n",
       "      <td>Urban</td>\n",
       "      <td>Bachelor</td>\n",
       "      <td>2L-5L</td>\n",
       "      <td>1</td>\n",
       "      <td>5</td>\n",
       "      <td>6279</td>\n",
       "      <td>More than 1</td>\n",
       "      <td>A</td>\n",
       "      <td>Platinum</td>\n",
       "      <td>67992</td>\n",
       "    </tr>\n",
       "    <tr>\n",
       "      <th>43</th>\n",
       "      <td>Male</td>\n",
       "      <td>Urban</td>\n",
       "      <td>Bachelor</td>\n",
       "      <td>5L-10L</td>\n",
       "      <td>1</td>\n",
       "      <td>6</td>\n",
       "      <td>4050</td>\n",
       "      <td>More than 1</td>\n",
       "      <td>A</td>\n",
       "      <td>Platinum</td>\n",
       "      <td>63276</td>\n",
       "    </tr>\n",
       "    <tr>\n",
       "      <th>44</th>\n",
       "      <td>Female</td>\n",
       "      <td>Urban</td>\n",
       "      <td>High School</td>\n",
       "      <td>2L-5L</td>\n",
       "      <td>0</td>\n",
       "      <td>3</td>\n",
       "      <td>5443</td>\n",
       "      <td>1</td>\n",
       "      <td>A</td>\n",
       "      <td>Platinum</td>\n",
       "      <td>52464</td>\n",
       "    </tr>\n",
       "    <tr>\n",
       "      <th>45</th>\n",
       "      <td>Male</td>\n",
       "      <td>Rural</td>\n",
       "      <td>Bachelor</td>\n",
       "      <td>5L-10L</td>\n",
       "      <td>0</td>\n",
       "      <td>6</td>\n",
       "      <td>0</td>\n",
       "      <td>1</td>\n",
       "      <td>A</td>\n",
       "      <td>Platinum</td>\n",
       "      <td>31128</td>\n",
       "    </tr>\n",
       "    <tr>\n",
       "      <th>46</th>\n",
       "      <td>Male</td>\n",
       "      <td>Urban</td>\n",
       "      <td>High School</td>\n",
       "      <td>5L-10L</td>\n",
       "      <td>1</td>\n",
       "      <td>5</td>\n",
       "      <td>4190</td>\n",
       "      <td>1</td>\n",
       "      <td>A</td>\n",
       "      <td>Platinum</td>\n",
       "      <td>28752</td>\n",
       "    </tr>\n",
       "    <tr>\n",
       "      <th>48</th>\n",
       "      <td>Male</td>\n",
       "      <td>Urban</td>\n",
       "      <td>High School</td>\n",
       "      <td>5L-10L</td>\n",
       "      <td>0</td>\n",
       "      <td>6</td>\n",
       "      <td>6458</td>\n",
       "      <td>More than 1</td>\n",
       "      <td>A</td>\n",
       "      <td>Platinum</td>\n",
       "      <td>67032</td>\n",
       "    </tr>\n",
       "    <tr>\n",
       "      <th>49</th>\n",
       "      <td>Male</td>\n",
       "      <td>Urban</td>\n",
       "      <td>Bachelor</td>\n",
       "      <td>2L-5L</td>\n",
       "      <td>1</td>\n",
       "      <td>5</td>\n",
       "      <td>7890</td>\n",
       "      <td>More than 1</td>\n",
       "      <td>B</td>\n",
       "      <td>Silver</td>\n",
       "      <td>208452</td>\n",
       "    </tr>\n",
       "    <tr>\n",
       "      <th>50</th>\n",
       "      <td>Female</td>\n",
       "      <td>Rural</td>\n",
       "      <td>Bachelor</td>\n",
       "      <td>5L-10L</td>\n",
       "      <td>0</td>\n",
       "      <td>3</td>\n",
       "      <td>0</td>\n",
       "      <td>More than 1</td>\n",
       "      <td>A</td>\n",
       "      <td>Silver</td>\n",
       "      <td>64056</td>\n",
       "    </tr>\n",
       "  </tbody>\n",
       "</table>\n",
       "</div>"
      ],
      "text/plain": [
       "    gender   area qualification         income  marital_status  vintage  \\\n",
       "0     Male  Urban      Bachelor         5L-10L               1        5   \n",
       "1     Male  Rural   High School         5L-10L               0        8   \n",
       "2     Male  Urban      Bachelor         5L-10L               1        8   \n",
       "3   Female  Rural   High School         5L-10L               0        7   \n",
       "4     Male  Urban   High School  More than 10L               1        6   \n",
       "5     Male  Rural   High School  More than 10L               1        1   \n",
       "6   Female  Rural      Bachelor         5L-10L               1        6   \n",
       "7   Female  Urban   High School         5L-10L               0        0   \n",
       "8   Female  Urban   High School         5L-10L               1        3   \n",
       "9     Male  Rural   High School  More than 10L               1        6   \n",
       "10    Male  Urban   High School         5L-10L               0        4   \n",
       "11    Male  Urban      Bachelor          2L-5L               0        6   \n",
       "12    Male  Urban      Bachelor          2L-5L               1        7   \n",
       "13    Male  Urban      Bachelor          2L-5L               1        1   \n",
       "14    Male  Urban      Bachelor         5L-10L               0        8   \n",
       "15  Female  Urban   High School          2L-5L               0        1   \n",
       "16    Male  Rural      Bachelor         5L-10L               0        5   \n",
       "17  Female  Rural   High School  More than 10L               1        2   \n",
       "18  Female  Urban   High School         5L-10L               1        7   \n",
       "19  Female  Urban      Bachelor  More than 10L               1        2   \n",
       "20    Male  Urban   High School         5L-10L               0        8   \n",
       "21    Male  Urban   High School          2L-5L               0        7   \n",
       "22  Female  Urban      Bachelor         5L-10L               1        6   \n",
       "23    Male  Urban   High School         5L-10L               1        7   \n",
       "24    Male  Urban      Bachelor  More than 10L               1        4   \n",
       "25  Female  Rural      Bachelor         5L-10L               1        3   \n",
       "26  Female  Urban   High School          2L-5L               1        7   \n",
       "27    Male  Rural      Bachelor         5L-10L               1        7   \n",
       "28  Female  Urban   High School         5L-10L               0        5   \n",
       "29  Female  Rural   High School         5L-10L               1        3   \n",
       "30    Male  Urban   High School         5L-10L               1        1   \n",
       "31    Male  Rural        Others         5L-10L               1        4   \n",
       "32    Male  Rural      Bachelor         5L-10L               0        0   \n",
       "33  Female  Rural   High School          2L-5L               1        7   \n",
       "34  Female  Urban   High School         5L-10L               1        7   \n",
       "35    Male  Rural   High School  More than 10L               1        5   \n",
       "36    Male  Urban   High School         5L-10L               0        1   \n",
       "37  Female  Urban   High School         5L-10L               1        2   \n",
       "38  Female  Urban   High School          2L-5L               0        5   \n",
       "39  Female  Rural   High School         5L-10L               1        5   \n",
       "40  Female  Urban      Bachelor         5L-10L               0        7   \n",
       "41  Female  Rural   High School         5L-10L               0        6   \n",
       "42  Female  Urban      Bachelor          2L-5L               1        5   \n",
       "43    Male  Urban      Bachelor         5L-10L               1        6   \n",
       "44  Female  Urban   High School          2L-5L               0        3   \n",
       "45    Male  Rural      Bachelor         5L-10L               0        6   \n",
       "46    Male  Urban   High School         5L-10L               1        5   \n",
       "48    Male  Urban   High School         5L-10L               0        6   \n",
       "49    Male  Urban      Bachelor          2L-5L               1        5   \n",
       "50  Female  Rural      Bachelor         5L-10L               0        3   \n",
       "\n",
       "    claim_amount num_policies policy type_of_policy    cltv  \n",
       "0           5790  More than 1      A       Platinum   64308  \n",
       "1           5080  More than 1      A       Platinum  515400  \n",
       "2           2599  More than 1      A       Platinum   64212  \n",
       "3              0  More than 1      A       Platinum   97920  \n",
       "4           3508  More than 1      A           Gold   59736  \n",
       "5              0            1      C           Gold  348768  \n",
       "6              0  More than 1      A           Gold  238920  \n",
       "7           5473  More than 1      A         Silver   64128  \n",
       "8           6105  More than 1      A           Gold   94536  \n",
       "9              0  More than 1      A       Platinum   99060  \n",
       "10          4329  More than 1      A       Platinum   74148  \n",
       "11          6351  More than 1      C         Silver   64008  \n",
       "12          4327            1      A       Platinum   60828  \n",
       "13          4615  More than 1      C         Silver  133344  \n",
       "14          6915  More than 1      A       Platinum   65400  \n",
       "15          5398            1      A           Gold   55764  \n",
       "16             0            1      A         Silver   29124  \n",
       "17             0  More than 1      A         Silver  102876  \n",
       "18          4336  More than 1      C       Platinum   75036  \n",
       "19          7541  More than 1      A       Platinum  110568  \n",
       "20          8029  More than 1      A         Silver  113340  \n",
       "21          6132            1      A       Platinum   34248  \n",
       "22          2212  More than 1      B       Platinum  115632  \n",
       "23          2933  More than 1      A       Platinum  265080  \n",
       "24             0  More than 1      C           Gold   67632  \n",
       "25          3548  More than 1      B       Platinum   63396  \n",
       "26          3166            1      A       Platinum   48684  \n",
       "27             0            1      A         Silver   30072  \n",
       "28          8145  More than 1      A         Silver  262260  \n",
       "29             0            1      A       Platinum   33552  \n",
       "30          5779  More than 1      C           Gold   62568  \n",
       "31          4834            1      C       Platinum   34824  \n",
       "32          2854            1      B       Platinum   60156  \n",
       "33          2438  More than 1      B       Platinum   72888  \n",
       "34          3914            1      A       Platinum   65664  \n",
       "35             0            1      A         Silver   32292  \n",
       "36          2634            1      A       Platinum   55656  \n",
       "37          6473  More than 1      A       Platinum  106188  \n",
       "38          5573            1      A         Silver   34944  \n",
       "39             0  More than 1      A       Platinum   65496  \n",
       "40          2806  More than 1      B         Silver   70236  \n",
       "41          2708            1      A         Silver   47964  \n",
       "42          6279  More than 1      A       Platinum   67992  \n",
       "43          4050  More than 1      A       Platinum   63276  \n",
       "44          5443            1      A       Platinum   52464  \n",
       "45             0            1      A       Platinum   31128  \n",
       "46          4190            1      A       Platinum   28752  \n",
       "48          6458  More than 1      A       Platinum   67032  \n",
       "49          7890  More than 1      B         Silver  208452  \n",
       "50             0  More than 1      A         Silver   64056  "
      ]
     },
     "execution_count": 71,
     "metadata": {},
     "output_type": "execute_result"
    }
   ],
   "source": [
    "data.head(50)"
   ]
  },
  {
   "cell_type": "markdown",
   "id": "bb8a7d10",
   "metadata": {},
   "source": [
    "## Encoding"
   ]
  },
  {
   "cell_type": "code",
   "execution_count": 72,
   "id": "b9b8975f",
   "metadata": {
    "scrolled": true
   },
   "outputs": [
    {
     "data": {
      "text/plain": [
       "0        1\n",
       "1        1\n",
       "2        1\n",
       "3        0\n",
       "4        1\n",
       "        ..\n",
       "89387    1\n",
       "89388    1\n",
       "89389    0\n",
       "89390    0\n",
       "89391    0\n",
       "Name: gender, Length: 87134, dtype: int64"
      ]
     },
     "execution_count": 72,
     "metadata": {},
     "output_type": "execute_result"
    }
   ],
   "source": [
    "data[\"gender\"]=data[\"gender\"].apply(lambda x:1 if x==\"Male\" else 0)\n",
    "data[\"gender\"]"
   ]
  },
  {
   "cell_type": "code",
   "execution_count": 73,
   "id": "7e24b570",
   "metadata": {
    "scrolled": true
   },
   "outputs": [
    {
     "data": {
      "text/plain": [
       "0        1\n",
       "1        0\n",
       "2        1\n",
       "3        0\n",
       "4        1\n",
       "        ..\n",
       "89387    0\n",
       "89388    1\n",
       "89389    1\n",
       "89390    0\n",
       "89391    0\n",
       "Name: area, Length: 87134, dtype: int64"
      ]
     },
     "execution_count": 73,
     "metadata": {},
     "output_type": "execute_result"
    }
   ],
   "source": [
    "data[\"area\"]=data[\"area\"].apply(lambda x:1 if x==\"Urban\" else 0)\n",
    "data[\"area\"]"
   ]
  },
  {
   "cell_type": "code",
   "execution_count": 74,
   "id": "2cda7ded",
   "metadata": {
    "scrolled": true
   },
   "outputs": [
    {
     "data": {
      "text/plain": [
       "0        0\n",
       "1        1\n",
       "2        0\n",
       "3        1\n",
       "4        1\n",
       "        ..\n",
       "89387    1\n",
       "89388    0\n",
       "89389    0\n",
       "89390    1\n",
       "89391    1\n",
       "Name: qualification, Length: 87134, dtype: int32"
      ]
     },
     "execution_count": 74,
     "metadata": {},
     "output_type": "execute_result"
    }
   ],
   "source": [
    "data['qualification']= label_encoder.fit_transform(data['qualification'])\n",
    "data['qualification']"
   ]
  },
  {
   "cell_type": "code",
   "execution_count": 75,
   "id": "30d3ab02",
   "metadata": {
    "scrolled": true
   },
   "outputs": [
    {
     "data": {
      "text/plain": [
       "0        1\n",
       "1        1\n",
       "2        1\n",
       "3        1\n",
       "4        3\n",
       "        ..\n",
       "89387    3\n",
       "89388    1\n",
       "89389    1\n",
       "89390    0\n",
       "89391    1\n",
       "Name: income, Length: 87134, dtype: int32"
      ]
     },
     "execution_count": 75,
     "metadata": {},
     "output_type": "execute_result"
    }
   ],
   "source": [
    "data['income']= label_encoder.fit_transform(data['income'])\n",
    "data['income']"
   ]
  },
  {
   "cell_type": "code",
   "execution_count": 76,
   "id": "30d6760a",
   "metadata": {},
   "outputs": [
    {
     "data": {
      "text/plain": [
       "0        1\n",
       "1        1\n",
       "2        1\n",
       "3        1\n",
       "4        1\n",
       "        ..\n",
       "89387    1\n",
       "89388    1\n",
       "89389    1\n",
       "89390    1\n",
       "89391    1\n",
       "Name: num_policies, Length: 87134, dtype: int64"
      ]
     },
     "execution_count": 76,
     "metadata": {},
     "output_type": "execute_result"
    }
   ],
   "source": [
    "data[\"num_policies\"]=data[\"num_policies\"].apply(lambda x:1 if x==\"More than 1\" else 0)\n",
    "data[\"num_policies\"]"
   ]
  },
  {
   "cell_type": "code",
   "execution_count": 77,
   "id": "3914f70c",
   "metadata": {},
   "outputs": [
    {
     "data": {
      "text/plain": [
       "0        0\n",
       "1        0\n",
       "2        0\n",
       "3        0\n",
       "4        0\n",
       "        ..\n",
       "89387    1\n",
       "89388    0\n",
       "89389    1\n",
       "89390    1\n",
       "89391    1\n",
       "Name: policy, Length: 87134, dtype: int32"
      ]
     },
     "execution_count": 77,
     "metadata": {},
     "output_type": "execute_result"
    }
   ],
   "source": [
    "data['policy']= label_encoder.fit_transform(data['policy'])\n",
    "data['policy']"
   ]
  },
  {
   "cell_type": "code",
   "execution_count": 78,
   "id": "0931aa44",
   "metadata": {
    "scrolled": true
   },
   "outputs": [
    {
     "data": {
      "text/plain": [
       "0        1\n",
       "1        1\n",
       "2        1\n",
       "3        1\n",
       "4        0\n",
       "        ..\n",
       "89387    1\n",
       "89388    1\n",
       "89389    1\n",
       "89390    1\n",
       "89391    0\n",
       "Name: type_of_policy, Length: 87134, dtype: int32"
      ]
     },
     "execution_count": 78,
     "metadata": {},
     "output_type": "execute_result"
    }
   ],
   "source": [
    "data['type_of_policy']= label_encoder.fit_transform(data['type_of_policy'])\n",
    "data['type_of_policy']"
   ]
  },
  {
   "cell_type": "markdown",
   "id": "868b5400",
   "metadata": {},
   "source": [
    "## Correlation Analysis"
   ]
  },
  {
   "cell_type": "code",
   "execution_count": 79,
   "id": "1b3068d0",
   "metadata": {
    "scrolled": true
   },
   "outputs": [
    {
     "data": {
      "text/html": [
       "<div>\n",
       "<style scoped>\n",
       "    .dataframe tbody tr th:only-of-type {\n",
       "        vertical-align: middle;\n",
       "    }\n",
       "\n",
       "    .dataframe tbody tr th {\n",
       "        vertical-align: top;\n",
       "    }\n",
       "\n",
       "    .dataframe thead th {\n",
       "        text-align: right;\n",
       "    }\n",
       "</style>\n",
       "<table border=\"1\" class=\"dataframe\">\n",
       "  <thead>\n",
       "    <tr style=\"text-align: right;\">\n",
       "      <th></th>\n",
       "      <th>gender</th>\n",
       "      <th>area</th>\n",
       "      <th>qualification</th>\n",
       "      <th>income</th>\n",
       "      <th>marital_status</th>\n",
       "      <th>vintage</th>\n",
       "      <th>claim_amount</th>\n",
       "      <th>num_policies</th>\n",
       "      <th>policy</th>\n",
       "      <th>type_of_policy</th>\n",
       "      <th>cltv</th>\n",
       "    </tr>\n",
       "  </thead>\n",
       "  <tbody>\n",
       "    <tr>\n",
       "      <th>gender</th>\n",
       "      <td>1.000000</td>\n",
       "      <td>0.040759</td>\n",
       "      <td>-0.033076</td>\n",
       "      <td>-0.007525</td>\n",
       "      <td>0.071220</td>\n",
       "      <td>0.004481</td>\n",
       "      <td>0.041740</td>\n",
       "      <td>-0.055700</td>\n",
       "      <td>0.009224</td>\n",
       "      <td>-0.010774</td>\n",
       "      <td>-0.004505</td>\n",
       "    </tr>\n",
       "    <tr>\n",
       "      <th>area</th>\n",
       "      <td>0.040759</td>\n",
       "      <td>1.000000</td>\n",
       "      <td>0.022190</td>\n",
       "      <td>-0.204335</td>\n",
       "      <td>-0.045715</td>\n",
       "      <td>0.001399</td>\n",
       "      <td>0.489954</td>\n",
       "      <td>0.118372</td>\n",
       "      <td>-0.108234</td>\n",
       "      <td>-0.027455</td>\n",
       "      <td>0.130126</td>\n",
       "    </tr>\n",
       "    <tr>\n",
       "      <th>qualification</th>\n",
       "      <td>-0.033076</td>\n",
       "      <td>0.022190</td>\n",
       "      <td>1.000000</td>\n",
       "      <td>0.001017</td>\n",
       "      <td>-0.013151</td>\n",
       "      <td>-0.027292</td>\n",
       "      <td>0.030846</td>\n",
       "      <td>-0.046918</td>\n",
       "      <td>-0.013447</td>\n",
       "      <td>-0.032254</td>\n",
       "      <td>-0.022182</td>\n",
       "    </tr>\n",
       "    <tr>\n",
       "      <th>income</th>\n",
       "      <td>-0.007525</td>\n",
       "      <td>-0.204335</td>\n",
       "      <td>0.001017</td>\n",
       "      <td>1.000000</td>\n",
       "      <td>0.015668</td>\n",
       "      <td>-0.012072</td>\n",
       "      <td>-0.170573</td>\n",
       "      <td>-0.046733</td>\n",
       "      <td>-0.032503</td>\n",
       "      <td>-0.025488</td>\n",
       "      <td>-0.059794</td>\n",
       "    </tr>\n",
       "    <tr>\n",
       "      <th>marital_status</th>\n",
       "      <td>0.071220</td>\n",
       "      <td>-0.045715</td>\n",
       "      <td>-0.013151</td>\n",
       "      <td>0.015668</td>\n",
       "      <td>1.000000</td>\n",
       "      <td>-0.011115</td>\n",
       "      <td>-0.104854</td>\n",
       "      <td>-0.079927</td>\n",
       "      <td>-0.016150</td>\n",
       "      <td>-0.006695</td>\n",
       "      <td>-0.075434</td>\n",
       "    </tr>\n",
       "    <tr>\n",
       "      <th>vintage</th>\n",
       "      <td>0.004481</td>\n",
       "      <td>0.001399</td>\n",
       "      <td>-0.027292</td>\n",
       "      <td>-0.012072</td>\n",
       "      <td>-0.011115</td>\n",
       "      <td>1.000000</td>\n",
       "      <td>0.006100</td>\n",
       "      <td>0.051055</td>\n",
       "      <td>0.044496</td>\n",
       "      <td>0.009285</td>\n",
       "      <td>0.021363</td>\n",
       "    </tr>\n",
       "    <tr>\n",
       "      <th>claim_amount</th>\n",
       "      <td>0.041740</td>\n",
       "      <td>0.489954</td>\n",
       "      <td>0.030846</td>\n",
       "      <td>-0.170573</td>\n",
       "      <td>-0.104854</td>\n",
       "      <td>0.006100</td>\n",
       "      <td>1.000000</td>\n",
       "      <td>0.147386</td>\n",
       "      <td>-0.125891</td>\n",
       "      <td>-0.023321</td>\n",
       "      <td>0.176083</td>\n",
       "    </tr>\n",
       "    <tr>\n",
       "      <th>num_policies</th>\n",
       "      <td>-0.055700</td>\n",
       "      <td>0.118372</td>\n",
       "      <td>-0.046918</td>\n",
       "      <td>-0.046733</td>\n",
       "      <td>-0.079927</td>\n",
       "      <td>0.051055</td>\n",
       "      <td>0.147386</td>\n",
       "      <td>1.000000</td>\n",
       "      <td>-0.010003</td>\n",
       "      <td>-0.033298</td>\n",
       "      <td>0.361234</td>\n",
       "    </tr>\n",
       "    <tr>\n",
       "      <th>policy</th>\n",
       "      <td>0.009224</td>\n",
       "      <td>-0.108234</td>\n",
       "      <td>-0.013447</td>\n",
       "      <td>-0.032503</td>\n",
       "      <td>-0.016150</td>\n",
       "      <td>0.044496</td>\n",
       "      <td>-0.125891</td>\n",
       "      <td>-0.010003</td>\n",
       "      <td>1.000000</td>\n",
       "      <td>0.067468</td>\n",
       "      <td>-0.012574</td>\n",
       "    </tr>\n",
       "    <tr>\n",
       "      <th>type_of_policy</th>\n",
       "      <td>-0.010774</td>\n",
       "      <td>-0.027455</td>\n",
       "      <td>-0.032254</td>\n",
       "      <td>-0.025488</td>\n",
       "      <td>-0.006695</td>\n",
       "      <td>0.009285</td>\n",
       "      <td>-0.023321</td>\n",
       "      <td>-0.033298</td>\n",
       "      <td>0.067468</td>\n",
       "      <td>1.000000</td>\n",
       "      <td>-0.026472</td>\n",
       "    </tr>\n",
       "    <tr>\n",
       "      <th>cltv</th>\n",
       "      <td>-0.004505</td>\n",
       "      <td>0.130126</td>\n",
       "      <td>-0.022182</td>\n",
       "      <td>-0.059794</td>\n",
       "      <td>-0.075434</td>\n",
       "      <td>0.021363</td>\n",
       "      <td>0.176083</td>\n",
       "      <td>0.361234</td>\n",
       "      <td>-0.012574</td>\n",
       "      <td>-0.026472</td>\n",
       "      <td>1.000000</td>\n",
       "    </tr>\n",
       "  </tbody>\n",
       "</table>\n",
       "</div>"
      ],
      "text/plain": [
       "                  gender      area  qualification    income  marital_status  \\\n",
       "gender          1.000000  0.040759      -0.033076 -0.007525        0.071220   \n",
       "area            0.040759  1.000000       0.022190 -0.204335       -0.045715   \n",
       "qualification  -0.033076  0.022190       1.000000  0.001017       -0.013151   \n",
       "income         -0.007525 -0.204335       0.001017  1.000000        0.015668   \n",
       "marital_status  0.071220 -0.045715      -0.013151  0.015668        1.000000   \n",
       "vintage         0.004481  0.001399      -0.027292 -0.012072       -0.011115   \n",
       "claim_amount    0.041740  0.489954       0.030846 -0.170573       -0.104854   \n",
       "num_policies   -0.055700  0.118372      -0.046918 -0.046733       -0.079927   \n",
       "policy          0.009224 -0.108234      -0.013447 -0.032503       -0.016150   \n",
       "type_of_policy -0.010774 -0.027455      -0.032254 -0.025488       -0.006695   \n",
       "cltv           -0.004505  0.130126      -0.022182 -0.059794       -0.075434   \n",
       "\n",
       "                 vintage  claim_amount  num_policies    policy  \\\n",
       "gender          0.004481      0.041740     -0.055700  0.009224   \n",
       "area            0.001399      0.489954      0.118372 -0.108234   \n",
       "qualification  -0.027292      0.030846     -0.046918 -0.013447   \n",
       "income         -0.012072     -0.170573     -0.046733 -0.032503   \n",
       "marital_status -0.011115     -0.104854     -0.079927 -0.016150   \n",
       "vintage         1.000000      0.006100      0.051055  0.044496   \n",
       "claim_amount    0.006100      1.000000      0.147386 -0.125891   \n",
       "num_policies    0.051055      0.147386      1.000000 -0.010003   \n",
       "policy          0.044496     -0.125891     -0.010003  1.000000   \n",
       "type_of_policy  0.009285     -0.023321     -0.033298  0.067468   \n",
       "cltv            0.021363      0.176083      0.361234 -0.012574   \n",
       "\n",
       "                type_of_policy      cltv  \n",
       "gender               -0.010774 -0.004505  \n",
       "area                 -0.027455  0.130126  \n",
       "qualification        -0.032254 -0.022182  \n",
       "income               -0.025488 -0.059794  \n",
       "marital_status       -0.006695 -0.075434  \n",
       "vintage               0.009285  0.021363  \n",
       "claim_amount         -0.023321  0.176083  \n",
       "num_policies         -0.033298  0.361234  \n",
       "policy                0.067468 -0.012574  \n",
       "type_of_policy        1.000000 -0.026472  \n",
       "cltv                 -0.026472  1.000000  "
      ]
     },
     "execution_count": 79,
     "metadata": {},
     "output_type": "execute_result"
    }
   ],
   "source": [
    "data.corr()"
   ]
  },
  {
   "cell_type": "code",
   "execution_count": 80,
   "id": "e3910b1f",
   "metadata": {},
   "outputs": [
    {
     "data": {
      "text/plain": [
       "gender           -0.004505\n",
       "area              0.130126\n",
       "qualification    -0.022182\n",
       "income           -0.059794\n",
       "marital_status   -0.075434\n",
       "vintage           0.021363\n",
       "claim_amount      0.176083\n",
       "num_policies      0.361234\n",
       "policy           -0.012574\n",
       "type_of_policy   -0.026472\n",
       "cltv              1.000000\n",
       "Name: cltv, dtype: float64"
      ]
     },
     "execution_count": 80,
     "metadata": {},
     "output_type": "execute_result"
    }
   ],
   "source": [
    "data.corr()[\"cltv\"]"
   ]
  },
  {
   "cell_type": "code",
   "execution_count": 81,
   "id": "2bcfc11e",
   "metadata": {},
   "outputs": [
    {
     "data": {
      "text/plain": [
       "<AxesSubplot:>"
      ]
     },
     "execution_count": 81,
     "metadata": {},
     "output_type": "execute_result"
    },
    {
     "data": {
      "image/png": "[encoded data removed]",
      "text/plain": [
       "<Figure size 1080x864 with 2 Axes>"
      ]
     },
     "metadata": {},
     "output_type": "display_data"
    }
   ],
   "source": [
    "plt.figure(figsize = (15,12))\n",
    "sns.heatmap(data.corr(), annot = True, fmt = '.2f', cmap = 'BrBG', linewidths = 2)"
   ]
  },
  {
   "cell_type": "markdown",
   "id": "d9af98e3",
   "metadata": {},
   "source": [
    "## Splitting Data"
   ]
  },
  {
   "cell_type": "code",
   "execution_count": 82,
   "id": "5a3ccee1",
   "metadata": {},
   "outputs": [],
   "source": [
    "X = data.drop(\"cltv\", axis=1)\n",
    "y = data[\"cltv\"]"
   ]
  },
  {
   "cell_type": "markdown",
   "id": "b4914785",
   "metadata": {},
   "source": [
    "### Train-Test Split"
   ]
  },
  {
   "cell_type": "code",
   "execution_count": 83,
   "id": "1bece101",
   "metadata": {},
   "outputs": [],
   "source": [
    "X_train, X_test, y_train, y_test = train_test_split(X, y, test_size = 0.3, random_state = 0)"
   ]
  },
  {
   "cell_type": "code",
   "execution_count": 84,
   "id": "b17cb10b",
   "metadata": {},
   "outputs": [
    {
     "data": {
      "text/plain": [
       "((60993, 10), (26141, 10))"
      ]
     },
     "execution_count": 84,
     "metadata": {},
     "output_type": "execute_result"
    }
   ],
   "source": [
    "X_train.shape, X_test.shape"
   ]
  },
  {
   "cell_type": "code",
   "execution_count": 85,
   "id": "9c528b42",
   "metadata": {},
   "outputs": [
    {
     "data": {
      "text/html": [
       "<div>\n",
       "<style scoped>\n",
       "    .dataframe tbody tr th:only-of-type {\n",
       "        vertical-align: middle;\n",
       "    }\n",
       "\n",
       "    .dataframe tbody tr th {\n",
       "        vertical-align: top;\n",
       "    }\n",
       "\n",
       "    .dataframe thead th {\n",
       "        text-align: right;\n",
       "    }\n",
       "</style>\n",
       "<table border=\"1\" class=\"dataframe\">\n",
       "  <thead>\n",
       "    <tr style=\"text-align: right;\">\n",
       "      <th></th>\n",
       "      <th>gender</th>\n",
       "      <th>area</th>\n",
       "      <th>qualification</th>\n",
       "      <th>income</th>\n",
       "      <th>marital_status</th>\n",
       "      <th>vintage</th>\n",
       "      <th>claim_amount</th>\n",
       "      <th>num_policies</th>\n",
       "      <th>policy</th>\n",
       "      <th>type_of_policy</th>\n",
       "    </tr>\n",
       "  </thead>\n",
       "  <tbody>\n",
       "    <tr>\n",
       "      <th>10309</th>\n",
       "      <td>1</td>\n",
       "      <td>1</td>\n",
       "      <td>1</td>\n",
       "      <td>1</td>\n",
       "      <td>1</td>\n",
       "      <td>7</td>\n",
       "      <td>6385</td>\n",
       "      <td>0</td>\n",
       "      <td>2</td>\n",
       "      <td>2</td>\n",
       "    </tr>\n",
       "    <tr>\n",
       "      <th>60449</th>\n",
       "      <td>0</td>\n",
       "      <td>0</td>\n",
       "      <td>2</td>\n",
       "      <td>3</td>\n",
       "      <td>1</td>\n",
       "      <td>5</td>\n",
       "      <td>0</td>\n",
       "      <td>0</td>\n",
       "      <td>0</td>\n",
       "      <td>2</td>\n",
       "    </tr>\n",
       "    <tr>\n",
       "      <th>47583</th>\n",
       "      <td>0</td>\n",
       "      <td>1</td>\n",
       "      <td>1</td>\n",
       "      <td>0</td>\n",
       "      <td>1</td>\n",
       "      <td>8</td>\n",
       "      <td>9787</td>\n",
       "      <td>1</td>\n",
       "      <td>1</td>\n",
       "      <td>0</td>\n",
       "    </tr>\n",
       "    <tr>\n",
       "      <th>30762</th>\n",
       "      <td>0</td>\n",
       "      <td>1</td>\n",
       "      <td>1</td>\n",
       "      <td>1</td>\n",
       "      <td>1</td>\n",
       "      <td>2</td>\n",
       "      <td>7540</td>\n",
       "      <td>1</td>\n",
       "      <td>0</td>\n",
       "      <td>1</td>\n",
       "    </tr>\n",
       "    <tr>\n",
       "      <th>8349</th>\n",
       "      <td>1</td>\n",
       "      <td>1</td>\n",
       "      <td>0</td>\n",
       "      <td>1</td>\n",
       "      <td>1</td>\n",
       "      <td>6</td>\n",
       "      <td>2994</td>\n",
       "      <td>0</td>\n",
       "      <td>1</td>\n",
       "      <td>0</td>\n",
       "    </tr>\n",
       "  </tbody>\n",
       "</table>\n",
       "</div>"
      ],
      "text/plain": [
       "       gender  area  qualification  income  marital_status  vintage  \\\n",
       "10309       1     1              1       1               1        7   \n",
       "60449       0     0              2       3               1        5   \n",
       "47583       0     1              1       0               1        8   \n",
       "30762       0     1              1       1               1        2   \n",
       "8349        1     1              0       1               1        6   \n",
       "\n",
       "       claim_amount  num_policies  policy  type_of_policy  \n",
       "10309          6385             0       2               2  \n",
       "60449             0             0       0               2  \n",
       "47583          9787             1       1               0  \n",
       "30762          7540             1       0               1  \n",
       "8349           2994             0       1               0  "
      ]
     },
     "execution_count": 85,
     "metadata": {},
     "output_type": "execute_result"
    }
   ],
   "source": [
    "X_train.head()"
   ]
  },
  {
   "cell_type": "code",
   "execution_count": 86,
   "id": "8bc26a62",
   "metadata": {
    "scrolled": true
   },
   "outputs": [
    {
     "data": {
      "text/html": [
       "<div>\n",
       "<style scoped>\n",
       "    .dataframe tbody tr th:only-of-type {\n",
       "        vertical-align: middle;\n",
       "    }\n",
       "\n",
       "    .dataframe tbody tr th {\n",
       "        vertical-align: top;\n",
       "    }\n",
       "\n",
       "    .dataframe thead th {\n",
       "        text-align: right;\n",
       "    }\n",
       "</style>\n",
       "<table border=\"1\" class=\"dataframe\">\n",
       "  <thead>\n",
       "    <tr style=\"text-align: right;\">\n",
       "      <th></th>\n",
       "      <th>gender</th>\n",
       "      <th>area</th>\n",
       "      <th>qualification</th>\n",
       "      <th>income</th>\n",
       "      <th>marital_status</th>\n",
       "      <th>vintage</th>\n",
       "      <th>claim_amount</th>\n",
       "      <th>num_policies</th>\n",
       "      <th>policy</th>\n",
       "      <th>type_of_policy</th>\n",
       "    </tr>\n",
       "  </thead>\n",
       "  <tbody>\n",
       "    <tr>\n",
       "      <th>15309</th>\n",
       "      <td>1</td>\n",
       "      <td>1</td>\n",
       "      <td>1</td>\n",
       "      <td>1</td>\n",
       "      <td>1</td>\n",
       "      <td>5</td>\n",
       "      <td>4047</td>\n",
       "      <td>1</td>\n",
       "      <td>0</td>\n",
       "      <td>0</td>\n",
       "    </tr>\n",
       "    <tr>\n",
       "      <th>88040</th>\n",
       "      <td>0</td>\n",
       "      <td>1</td>\n",
       "      <td>0</td>\n",
       "      <td>0</td>\n",
       "      <td>1</td>\n",
       "      <td>6</td>\n",
       "      <td>3487</td>\n",
       "      <td>1</td>\n",
       "      <td>0</td>\n",
       "      <td>2</td>\n",
       "    </tr>\n",
       "    <tr>\n",
       "      <th>67679</th>\n",
       "      <td>0</td>\n",
       "      <td>0</td>\n",
       "      <td>0</td>\n",
       "      <td>3</td>\n",
       "      <td>1</td>\n",
       "      <td>7</td>\n",
       "      <td>2943</td>\n",
       "      <td>1</td>\n",
       "      <td>1</td>\n",
       "      <td>2</td>\n",
       "    </tr>\n",
       "    <tr>\n",
       "      <th>30198</th>\n",
       "      <td>1</td>\n",
       "      <td>1</td>\n",
       "      <td>0</td>\n",
       "      <td>0</td>\n",
       "      <td>1</td>\n",
       "      <td>5</td>\n",
       "      <td>6062</td>\n",
       "      <td>0</td>\n",
       "      <td>2</td>\n",
       "      <td>0</td>\n",
       "    </tr>\n",
       "    <tr>\n",
       "      <th>69446</th>\n",
       "      <td>0</td>\n",
       "      <td>1</td>\n",
       "      <td>0</td>\n",
       "      <td>0</td>\n",
       "      <td>0</td>\n",
       "      <td>4</td>\n",
       "      <td>5256</td>\n",
       "      <td>1</td>\n",
       "      <td>1</td>\n",
       "      <td>1</td>\n",
       "    </tr>\n",
       "  </tbody>\n",
       "</table>\n",
       "</div>"
      ],
      "text/plain": [
       "       gender  area  qualification  income  marital_status  vintage  \\\n",
       "15309       1     1              1       1               1        5   \n",
       "88040       0     1              0       0               1        6   \n",
       "67679       0     0              0       3               1        7   \n",
       "30198       1     1              0       0               1        5   \n",
       "69446       0     1              0       0               0        4   \n",
       "\n",
       "       claim_amount  num_policies  policy  type_of_policy  \n",
       "15309          4047             1       0               0  \n",
       "88040          3487             1       0               2  \n",
       "67679          2943             1       1               2  \n",
       "30198          6062             0       2               0  \n",
       "69446          5256             1       1               1  "
      ]
     },
     "execution_count": 86,
     "metadata": {},
     "output_type": "execute_result"
    }
   ],
   "source": [
    "X_test.head()"
   ]
  },
  {
   "cell_type": "markdown",
   "id": "d200432e",
   "metadata": {},
   "source": [
    "## Models"
   ]
  },
  {
   "cell_type": "markdown",
   "id": "a0f89045",
   "metadata": {},
   "source": [
    "### OLS"
   ]
  },
  {
   "cell_type": "code",
   "execution_count": 87,
   "id": "92da3b60",
   "metadata": {},
   "outputs": [],
   "source": [
    "import statsmodels.api as sm"
   ]
  },
  {
   "cell_type": "code",
   "execution_count": 88,
   "id": "657e5014",
   "metadata": {},
   "outputs": [],
   "source": [
    "x = sm.add_constant(X)"
   ]
  },
  {
   "cell_type": "code",
   "execution_count": 89,
   "id": "dea742ca",
   "metadata": {},
   "outputs": [],
   "source": [
    "result = sm.OLS(y, x).fit()"
   ]
  },
  {
   "cell_type": "code",
   "execution_count": 90,
   "id": "3374c118",
   "metadata": {},
   "outputs": [
    {
     "name": "stdout",
     "output_type": "stream",
     "text": [
      "                            OLS Regression Results                            \n",
      "==============================================================================\n",
      "Dep. Variable:                   cltv   R-squared:                       0.149\n",
      "Model:                            OLS   Adj. R-squared:                  0.149\n",
      "Method:                 Least Squares   F-statistic:                     1525.\n",
      "Date:                Sun, 22 Jan 2023   Prob (F-statistic):               0.00\n",
      "Time:                        22:55:50   Log-Likelihood:            -1.1102e+06\n",
      "No. Observations:               87134   AIC:                         2.220e+06\n",
      "Df Residuals:                   87123   BIC:                         2.220e+06\n",
      "Df Model:                          10                                         \n",
      "Covariance Type:            nonrobust                                         \n",
      "==================================================================================\n",
      "                     coef    std err          t      P>|t|      [0.025      0.975]\n",
      "----------------------------------------------------------------------------------\n",
      "const           4.244e+04   1241.902     34.170      0.000       4e+04    4.49e+04\n",
      "gender          1897.9489    567.990      3.342      0.001     784.694    3011.204\n",
      "area            6680.3433    705.461      9.469      0.000    5297.645    8063.041\n",
      "qualification  -1676.1949    493.265     -3.398      0.001   -2642.989    -709.401\n",
      "income         -1819.2197    309.739     -5.873      0.000   -2426.306   -1212.133\n",
      "marital_status -6644.4719    573.153    -11.593      0.000   -7767.847   -5521.097\n",
      "vintage           89.4992    122.528      0.730      0.465    -150.655     329.653\n",
      "claim_amount       3.3105      0.118     28.164      0.000       3.080       3.541\n",
      "num_policies    6.429e+04    606.696    105.962      0.000    6.31e+04    6.55e+04\n",
      "policy           933.4182    433.979      2.151      0.031      82.823    1784.013\n",
      "type_of_policy -1749.1155    412.080     -4.245      0.000   -2556.789    -941.442\n",
      "==============================================================================\n",
      "Omnibus:                    50686.299   Durbin-Watson:                   1.998\n",
      "Prob(Omnibus):                  0.000   Jarque-Bera (JB):           414196.230\n",
      "Skew:                           2.774   Prob(JB):                         0.00\n",
      "Kurtosis:                      12.127   Cond. No.                     2.33e+04\n",
      "==============================================================================\n",
      "\n",
      "Notes:\n",
      "[1] Standard Errors assume that the covariance matrix of the errors is correctly specified.\n",
      "[2] The condition number is large, 2.33e+04. This might indicate that there are\n",
      "strong multicollinearity or other numerical problems.\n"
     ]
    }
   ],
   "source": [
    "print(result.summary())"
   ]
  },
  {
   "cell_type": "markdown",
   "id": "e338b8bd",
   "metadata": {},
   "source": [
    "### Gradient Boost"
   ]
  },
  {
   "cell_type": "code",
   "execution_count": 97,
   "id": "819ccd70",
   "metadata": {},
   "outputs": [],
   "source": [
    "from sklearn.ensemble import GradientBoostingRegressor"
   ]
  },
  {
   "cell_type": "code",
   "execution_count": 202,
   "id": "797e7fcc",
   "metadata": {},
   "outputs": [],
   "source": [
    "gbr = GradientBoostingRegressor(n_estimators=600, max_depth=5, learning_rate=0.01, min_samples_split=500)"
   ]
  },
  {
   "cell_type": "code",
   "execution_count": 203,
   "id": "9eac25f1",
   "metadata": {},
   "outputs": [
    {
     "data": {
      "text/plain": [
       "GradientBoostingRegressor(learning_rate=0.01, max_depth=5,\n",
       "                          min_samples_split=500, n_estimators=600)"
      ]
     },
     "execution_count": 203,
     "metadata": {},
     "output_type": "execute_result"
    }
   ],
   "source": [
    "gbr.fit(X_train, y_train)"
   ]
  },
  {
   "cell_type": "code",
   "execution_count": 204,
   "id": "6ff6c5ef",
   "metadata": {},
   "outputs": [],
   "source": [
    "y_pred = gbr.predict(X_test)"
   ]
  },
  {
   "cell_type": "code",
   "execution_count": 205,
   "id": "0d1abbc0",
   "metadata": {
    "scrolled": true
   },
   "outputs": [
    {
     "data": {
      "text/plain": [
       "0.15903233615345846"
      ]
     },
     "execution_count": 205,
     "metadata": {},
     "output_type": "execute_result"
    }
   ],
   "source": [
    "metrics.r2_score(y_test, y_pred)"
   ]
  },
  {
   "cell_type": "markdown",
   "id": "701eb518",
   "metadata": {},
   "source": [
    "## Test Data"
   ]
  },
  {
   "cell_type": "code",
   "execution_count": 195,
   "id": "0d1d3670",
   "metadata": {},
   "outputs": [],
   "source": [
    "Test_Data = pd.read_csv(\"test_koRSKBP.csv\")"
   ]
  },
  {
   "cell_type": "code",
   "execution_count": 196,
   "id": "ec82d086",
   "metadata": {},
   "outputs": [],
   "source": [
    "data_id = Test_Data[\"id\"]"
   ]
  },
  {
   "cell_type": "code",
   "execution_count": 158,
   "id": "daba1666",
   "metadata": {},
   "outputs": [],
   "source": [
    "Test_Data = Test_Data.drop(\"id\", axis = 1)"
   ]
  },
  {
   "cell_type": "code",
   "execution_count": 160,
   "id": "4e7f4d48",
   "metadata": {
    "scrolled": true
   },
   "outputs": [
    {
     "data": {
      "text/html": [
       "<div>\n",
       "<style scoped>\n",
       "    .dataframe tbody tr th:only-of-type {\n",
       "        vertical-align: middle;\n",
       "    }\n",
       "\n",
       "    .dataframe tbody tr th {\n",
       "        vertical-align: top;\n",
       "    }\n",
       "\n",
       "    .dataframe thead th {\n",
       "        text-align: right;\n",
       "    }\n",
       "</style>\n",
       "<table border=\"1\" class=\"dataframe\">\n",
       "  <thead>\n",
       "    <tr style=\"text-align: right;\">\n",
       "      <th></th>\n",
       "      <th>gender</th>\n",
       "      <th>area</th>\n",
       "      <th>qualification</th>\n",
       "      <th>income</th>\n",
       "      <th>marital_status</th>\n",
       "      <th>vintage</th>\n",
       "      <th>claim_amount</th>\n",
       "      <th>num_policies</th>\n",
       "      <th>policy</th>\n",
       "      <th>type_of_policy</th>\n",
       "    </tr>\n",
       "  </thead>\n",
       "  <tbody>\n",
       "    <tr>\n",
       "      <th>0</th>\n",
       "      <td>Female</td>\n",
       "      <td>Rural</td>\n",
       "      <td>High School</td>\n",
       "      <td>5L-10L</td>\n",
       "      <td>0</td>\n",
       "      <td>6</td>\n",
       "      <td>2134</td>\n",
       "      <td>More than 1</td>\n",
       "      <td>B</td>\n",
       "      <td>Silver</td>\n",
       "    </tr>\n",
       "    <tr>\n",
       "      <th>1</th>\n",
       "      <td>Female</td>\n",
       "      <td>Urban</td>\n",
       "      <td>High School</td>\n",
       "      <td>2L-5L</td>\n",
       "      <td>0</td>\n",
       "      <td>4</td>\n",
       "      <td>4102</td>\n",
       "      <td>More than 1</td>\n",
       "      <td>A</td>\n",
       "      <td>Platinum</td>\n",
       "    </tr>\n",
       "    <tr>\n",
       "      <th>2</th>\n",
       "      <td>Male</td>\n",
       "      <td>Rural</td>\n",
       "      <td>High School</td>\n",
       "      <td>5L-10L</td>\n",
       "      <td>1</td>\n",
       "      <td>7</td>\n",
       "      <td>2925</td>\n",
       "      <td>More than 1</td>\n",
       "      <td>B</td>\n",
       "      <td>Gold</td>\n",
       "    </tr>\n",
       "    <tr>\n",
       "      <th>3</th>\n",
       "      <td>Female</td>\n",
       "      <td>Rural</td>\n",
       "      <td>Bachelor</td>\n",
       "      <td>More than 10L</td>\n",
       "      <td>1</td>\n",
       "      <td>2</td>\n",
       "      <td>0</td>\n",
       "      <td>More than 1</td>\n",
       "      <td>B</td>\n",
       "      <td>Silver</td>\n",
       "    </tr>\n",
       "    <tr>\n",
       "      <th>4</th>\n",
       "      <td>Female</td>\n",
       "      <td>Urban</td>\n",
       "      <td>High School</td>\n",
       "      <td>2L-5L</td>\n",
       "      <td>0</td>\n",
       "      <td>5</td>\n",
       "      <td>14059</td>\n",
       "      <td>More than 1</td>\n",
       "      <td>B</td>\n",
       "      <td>Silver</td>\n",
       "    </tr>\n",
       "  </tbody>\n",
       "</table>\n",
       "</div>"
      ],
      "text/plain": [
       "   gender   area qualification         income  marital_status  vintage  \\\n",
       "0  Female  Rural   High School         5L-10L               0        6   \n",
       "1  Female  Urban   High School          2L-5L               0        4   \n",
       "2    Male  Rural   High School         5L-10L               1        7   \n",
       "3  Female  Rural      Bachelor  More than 10L               1        2   \n",
       "4  Female  Urban   High School          2L-5L               0        5   \n",
       "\n",
       "   claim_amount num_policies policy type_of_policy  \n",
       "0          2134  More than 1      B         Silver  \n",
       "1          4102  More than 1      A       Platinum  \n",
       "2          2925  More than 1      B           Gold  \n",
       "3             0  More than 1      B         Silver  \n",
       "4         14059  More than 1      B         Silver  "
      ]
     },
     "execution_count": 160,
     "metadata": {},
     "output_type": "execute_result"
    }
   ],
   "source": [
    "Test_Data.head()"
   ]
  },
  {
   "cell_type": "markdown",
   "id": "7481674d",
   "metadata": {},
   "source": [
    "### Encoding"
   ]
  },
  {
   "cell_type": "code",
   "execution_count": 161,
   "id": "65944836",
   "metadata": {
    "scrolled": true
   },
   "outputs": [
    {
     "data": {
      "text/plain": [
       "0        0\n",
       "1        0\n",
       "2        1\n",
       "3        0\n",
       "4        0\n",
       "        ..\n",
       "59590    1\n",
       "59591    1\n",
       "59592    0\n",
       "59593    1\n",
       "59594    0\n",
       "Name: gender, Length: 59595, dtype: int64"
      ]
     },
     "execution_count": 161,
     "metadata": {},
     "output_type": "execute_result"
    }
   ],
   "source": [
    "Test_Data[\"gender\"]=Test_Data[\"gender\"].apply(lambda x:1 if x==\"Male\" else 0)\n",
    "Test_Data[\"gender\"]"
   ]
  },
  {
   "cell_type": "code",
   "execution_count": 162,
   "id": "2eb87392",
   "metadata": {
    "scrolled": true
   },
   "outputs": [
    {
     "data": {
      "text/plain": [
       "0        0\n",
       "1        1\n",
       "2        0\n",
       "3        0\n",
       "4        1\n",
       "        ..\n",
       "59590    0\n",
       "59591    1\n",
       "59592    1\n",
       "59593    0\n",
       "59594    1\n",
       "Name: area, Length: 59595, dtype: int64"
      ]
     },
     "execution_count": 162,
     "metadata": {},
     "output_type": "execute_result"
    }
   ],
   "source": [
    "Test_Data[\"area\"]=Test_Data[\"area\"].apply(lambda x:1 if x==\"Urban\" else 0)\n",
    "Test_Data[\"area\"]"
   ]
  },
  {
   "cell_type": "code",
   "execution_count": 163,
   "id": "2c958ed0",
   "metadata": {
    "scrolled": true
   },
   "outputs": [
    {
     "data": {
      "text/plain": [
       "0        1\n",
       "1        1\n",
       "2        1\n",
       "3        0\n",
       "4        1\n",
       "        ..\n",
       "59590    0\n",
       "59591    1\n",
       "59592    1\n",
       "59593    0\n",
       "59594    0\n",
       "Name: qualification, Length: 59595, dtype: int32"
      ]
     },
     "execution_count": 163,
     "metadata": {},
     "output_type": "execute_result"
    }
   ],
   "source": [
    "Test_Data['qualification']= label_encoder.fit_transform(Test_Data['qualification'])\n",
    "Test_Data['qualification']"
   ]
  },
  {
   "cell_type": "code",
   "execution_count": 164,
   "id": "35350093",
   "metadata": {
    "scrolled": true
   },
   "outputs": [
    {
     "data": {
      "text/plain": [
       "0        1\n",
       "1        0\n",
       "2        1\n",
       "3        3\n",
       "4        0\n",
       "        ..\n",
       "59590    1\n",
       "59591    1\n",
       "59592    0\n",
       "59593    1\n",
       "59594    1\n",
       "Name: income, Length: 59595, dtype: int32"
      ]
     },
     "execution_count": 164,
     "metadata": {},
     "output_type": "execute_result"
    }
   ],
   "source": [
    "Test_Data['income']= label_encoder.fit_transform(Test_Data['income'])\n",
    "Test_Data['income']"
   ]
  },
  {
   "cell_type": "code",
   "execution_count": 165,
   "id": "647e80b3",
   "metadata": {},
   "outputs": [
    {
     "data": {
      "text/plain": [
       "0        1\n",
       "1        1\n",
       "2        1\n",
       "3        1\n",
       "4        1\n",
       "        ..\n",
       "59590    0\n",
       "59591    0\n",
       "59592    1\n",
       "59593    1\n",
       "59594    1\n",
       "Name: num_policies, Length: 59595, dtype: int64"
      ]
     },
     "execution_count": 165,
     "metadata": {},
     "output_type": "execute_result"
    }
   ],
   "source": [
    "Test_Data[\"num_policies\"]=Test_Data[\"num_policies\"].apply(lambda x:1 if x==\"More than 1\" else 0)\n",
    "Test_Data[\"num_policies\"]"
   ]
  },
  {
   "cell_type": "code",
   "execution_count": 166,
   "id": "4e2bea70",
   "metadata": {},
   "outputs": [
    {
     "data": {
      "text/plain": [
       "0        1\n",
       "1        0\n",
       "2        1\n",
       "3        1\n",
       "4        1\n",
       "        ..\n",
       "59590    0\n",
       "59591    2\n",
       "59592    1\n",
       "59593    0\n",
       "59594    1\n",
       "Name: policy, Length: 59595, dtype: int32"
      ]
     },
     "execution_count": 166,
     "metadata": {},
     "output_type": "execute_result"
    }
   ],
   "source": [
    "Test_Data['policy']= label_encoder.fit_transform(Test_Data['policy'])\n",
    "Test_Data['policy']"
   ]
  },
  {
   "cell_type": "code",
   "execution_count": 167,
   "id": "e0b765ba",
   "metadata": {
    "scrolled": true
   },
   "outputs": [
    {
     "data": {
      "text/plain": [
       "0        2\n",
       "1        1\n",
       "2        0\n",
       "3        2\n",
       "4        2\n",
       "        ..\n",
       "59590    2\n",
       "59591    0\n",
       "59592    1\n",
       "59593    2\n",
       "59594    1\n",
       "Name: type_of_policy, Length: 59595, dtype: int32"
      ]
     },
     "execution_count": 167,
     "metadata": {},
     "output_type": "execute_result"
    }
   ],
   "source": [
    "Test_Data['type_of_policy']= label_encoder.fit_transform(Test_Data['type_of_policy'])\n",
    "Test_Data['type_of_policy']"
   ]
  },
  {
   "cell_type": "code",
   "execution_count": 168,
   "id": "e6ebce72",
   "metadata": {
    "scrolled": true
   },
   "outputs": [],
   "source": [
    "predictions = gbr.predict(Test_Data)"
   ]
  },
  {
   "cell_type": "code",
   "execution_count": 169,
   "id": "0a5aa671",
   "metadata": {},
   "outputs": [
    {
     "data": {
      "text/plain": [
       "array([ 92243.35039418, 125616.29321115, 100444.39239262, ...,\n",
       "       107123.32543092, 106877.76530669, 116289.1844942 ])"
      ]
     },
     "execution_count": 169,
     "metadata": {},
     "output_type": "execute_result"
    }
   ],
   "source": [
    "predictions"
   ]
  },
  {
   "cell_type": "code",
   "execution_count": 191,
   "id": "3d001ece",
   "metadata": {},
   "outputs": [],
   "source": [
    "prediction = pd.DataFrame(predictions)"
   ]
  },
  {
   "cell_type": "code",
   "execution_count": 192,
   "id": "d460cfa9",
   "metadata": {
    "scrolled": false
   },
   "outputs": [
    {
     "data": {
      "text/html": [
       "<div>\n",
       "<style scoped>\n",
       "    .dataframe tbody tr th:only-of-type {\n",
       "        vertical-align: middle;\n",
       "    }\n",
       "\n",
       "    .dataframe tbody tr th {\n",
       "        vertical-align: top;\n",
       "    }\n",
       "\n",
       "    .dataframe thead th {\n",
       "        text-align: right;\n",
       "    }\n",
       "</style>\n",
       "<table border=\"1\" class=\"dataframe\">\n",
       "  <thead>\n",
       "    <tr style=\"text-align: right;\">\n",
       "      <th></th>\n",
       "      <th>0</th>\n",
       "    </tr>\n",
       "  </thead>\n",
       "  <tbody>\n",
       "    <tr>\n",
       "      <th>0</th>\n",
       "      <td>92243.350394</td>\n",
       "    </tr>\n",
       "    <tr>\n",
       "      <th>1</th>\n",
       "      <td>125616.293211</td>\n",
       "    </tr>\n",
       "    <tr>\n",
       "      <th>2</th>\n",
       "      <td>100444.392393</td>\n",
       "    </tr>\n",
       "    <tr>\n",
       "      <th>3</th>\n",
       "      <td>86390.638090</td>\n",
       "    </tr>\n",
       "    <tr>\n",
       "      <th>4</th>\n",
       "      <td>213771.702555</td>\n",
       "    </tr>\n",
       "    <tr>\n",
       "      <th>...</th>\n",
       "      <td>...</td>\n",
       "    </tr>\n",
       "    <tr>\n",
       "      <th>59590</th>\n",
       "      <td>47481.601187</td>\n",
       "    </tr>\n",
       "    <tr>\n",
       "      <th>59591</th>\n",
       "      <td>51303.282561</td>\n",
       "    </tr>\n",
       "    <tr>\n",
       "      <th>59592</th>\n",
       "      <td>107123.325431</td>\n",
       "    </tr>\n",
       "    <tr>\n",
       "      <th>59593</th>\n",
       "      <td>106877.765307</td>\n",
       "    </tr>\n",
       "    <tr>\n",
       "      <th>59594</th>\n",
       "      <td>116289.184494</td>\n",
       "    </tr>\n",
       "  </tbody>\n",
       "</table>\n",
       "<p>59595 rows × 1 columns</p>\n",
       "</div>"
      ],
      "text/plain": [
       "                   0\n",
       "0       92243.350394\n",
       "1      125616.293211\n",
       "2      100444.392393\n",
       "3       86390.638090\n",
       "4      213771.702555\n",
       "...              ...\n",
       "59590   47481.601187\n",
       "59591   51303.282561\n",
       "59592  107123.325431\n",
       "59593  106877.765307\n",
       "59594  116289.184494\n",
       "\n",
       "[59595 rows x 1 columns]"
      ]
     },
     "execution_count": 192,
     "metadata": {},
     "output_type": "execute_result"
    }
   ],
   "source": [
    "prediction"
   ]
  },
  {
   "cell_type": "code",
   "execution_count": 193,
   "id": "9cc3656b",
   "metadata": {},
   "outputs": [],
   "source": [
    "prediction.to_csv('prediction.csv')"
   ]
  },
  {
   "cell_type": "code",
   "execution_count": 197,
   "id": "2e177239",
   "metadata": {},
   "outputs": [],
   "source": [
    "data_id.to_csv('data_id.csv')"
   ]
  }
 ],
 "metadata": {
  "kernelspec": {
   "display_name": "Python 3 (ipykernel)",
   "language": "python",
   "name": "python3"
  },
  "language_info": {
   "codemirror_mode": {
    "name": "ipython",
    "version": 3
   },
   "file_extension": ".py",
   "mimetype": "text/x-python",
   "name": "python",
   "nbconvert_exporter": "python",
   "pygments_lexer": "ipython3",
   "version": "3.9.12"
  }
 },
 "nbformat": 4,
 "nbformat_minor": 5
}
